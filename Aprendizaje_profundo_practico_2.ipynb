{
 "cells": [
  {
   "cell_type": "markdown",
   "metadata": {
    "colab_type": "text",
    "id": "6Xss19BaO8mw"
   },
   "source": [
    "# Práctico 2 - Redes en escalera avanzadas\n",
    "\n",
    "Este práctico es similar al práctico 1, pero agregará un paso extra que es el uso de redes en escalera avanzadas, ya sean Redes Convolucionales o Redes Recurrentes.\n",
    "\n",
    "Se les dará, como base, el mismo conjunto de datos de la competencia \"PetFinder\" que se trabajó para el práctico 1, con el agregado de, en este caso, utilizar la descripción como un feature extra y todo el procesamiento que ello requiere.\n",
    "\n",
    "Ahora bien, no es el único conjunto de datos que pueden trabajar. Si tienen un conjunto propio de datos que quieran utilizar y dicho conjunto se preste para el uso de alguna red en escalera avanzada (e.g. conjuntos que tengan imágenes o texto), son libres de hacerlo."
   ]
  },
  {
   "cell_type": "code",
   "execution_count": 1,
   "metadata": {
    "colab": {
     "base_uri": "https://localhost:8080/",
     "height": 36
    },
    "colab_type": "code",
    "executionInfo": {
     "elapsed": 7702,
     "status": "ok",
     "timestamp": 1573142253615,
     "user": {
      "displayName": "Javier Alvarez",
      "photoUrl": "https://lh3.googleusercontent.com/a-/AAuE7mCpj6NcAdMItepXkUoq108X2wyUwQIMkXfM7KclgAg=s64",
      "userId": "16571654116830885687"
     },
     "user_tz": 180
    },
    "id": "JPm2iuGvar99",
    "outputId": "303f873e-5f28-49ed-94e8-016f102a0dff"
   },
   "outputs": [
    {
     "name": "stdout",
     "output_type": "stream",
     "text": [
      "TensorFlow 2.x selected.\n"
     ]
    }
   ],
   "source": [
    "try:\n",
    "    # %tensorflow_version only exists in Colab.\n",
    "    %tensorflow_version 2.x\n",
    "except Exception:\n",
    "    pass\n",
    "import tensorflow as tf\n",
    "\n",
    "from tensorflow.keras import layers, models"
   ]
  },
  {
   "cell_type": "code",
   "execution_count": 2,
   "metadata": {
    "colab": {
     "base_uri": "https://localhost:8080/",
     "height": 1000
    },
    "colab_type": "code",
    "executionInfo": {
     "elapsed": 32050,
     "status": "ok",
     "timestamp": 1573142277990,
     "user": {
      "displayName": "Javier Alvarez",
      "photoUrl": "https://lh3.googleusercontent.com/a-/AAuE7mCpj6NcAdMItepXkUoq108X2wyUwQIMkXfM7KclgAg=s64",
      "userId": "16571654116830885687"
     },
     "user_tz": 180
    },
    "id": "ENb3Rm0rsuto",
    "outputId": "3ec35d28-9653-41dd-e3f3-2899c0655b5e"
   },
   "outputs": [
    {
     "name": "stdout",
     "output_type": "stream",
     "text": [
      "Collecting mlflow\n",
      "\u001b[?25l  Downloading https://files.pythonhosted.org/packages/4f/b5/675b32531c43f0f1445d727b63bc88b3f30467af9e27d0e7d4a243758dbb/mlflow-1.4.0.tar.gz (14.6MB)\n",
      "\u001b[K     |████████████████████████████████| 14.6MB 156kB/s \n",
      "\u001b[?25hCollecting alembic\n",
      "\u001b[?25l  Downloading https://files.pythonhosted.org/packages/70/3d/d5ed7a71fe84f9ed0a69e91232a40b0b148b151524dc5bb1c8e4211eb117/alembic-1.3.0.tar.gz (1.1MB)\n",
      "\u001b[K     |████████████████████████████████| 1.1MB 38.5MB/s \n",
      "\u001b[?25hRequirement already satisfied: click>=7.0 in /usr/local/lib/python3.6/dist-packages (from mlflow) (7.0)\n",
      "Requirement already satisfied: cloudpickle in /usr/local/lib/python3.6/dist-packages (from mlflow) (1.2.2)\n",
      "Collecting databricks-cli>=0.8.7\n",
      "\u001b[?25l  Downloading https://files.pythonhosted.org/packages/85/03/fb0c4d31559d48f15403ad88aefff8ae0dddbbeab273d198c20232a937c2/databricks-cli-0.9.1.tar.gz (45kB)\n",
      "\u001b[K     |████████████████████████████████| 51kB 6.1MB/s \n",
      "\u001b[?25hRequirement already satisfied: requests>=2.17.3 in /tensorflow-2.0.0/python3.6 (from mlflow) (2.22.0)\n",
      "Requirement already satisfied: six>=1.10.0 in /tensorflow-2.0.0/python3.6 (from mlflow) (1.12.0)\n",
      "Requirement already satisfied: Flask in /usr/local/lib/python3.6/dist-packages (from mlflow) (1.1.1)\n",
      "Requirement already satisfied: numpy in /tensorflow-2.0.0/python3.6 (from mlflow) (1.17.3)\n",
      "Requirement already satisfied: pandas in /usr/local/lib/python3.6/dist-packages (from mlflow) (0.25.3)\n",
      "Requirement already satisfied: python-dateutil in /usr/local/lib/python3.6/dist-packages (from mlflow) (2.6.1)\n",
      "Requirement already satisfied: protobuf>=3.6.0 in /tensorflow-2.0.0/python3.6 (from mlflow) (3.10.0)\n",
      "Collecting gitpython>=2.1.0\n",
      "\u001b[?25l  Downloading https://files.pythonhosted.org/packages/aa/25/9fd9f0b05408021736a22ae73f837152c132e4ea85cdd71d186e24efec31/GitPython-3.0.4-py3-none-any.whl (454kB)\n",
      "\u001b[K     |████████████████████████████████| 460kB 50.5MB/s \n",
      "\u001b[?25hRequirement already satisfied: pyyaml in /usr/local/lib/python3.6/dist-packages (from mlflow) (3.13)\n",
      "Collecting querystring_parser\n",
      "  Downloading https://files.pythonhosted.org/packages/4a/fa/f54f5662e0eababf0c49e92fd94bf178888562c0e7b677c8941bbbcd1bd6/querystring_parser-1.2.4.tar.gz\n",
      "Collecting simplejson\n",
      "\u001b[?25l  Downloading https://files.pythonhosted.org/packages/e3/24/c35fb1c1c315fc0fffe61ea00d3f88e85469004713dab488dee4f35b0aff/simplejson-3.16.0.tar.gz (81kB)\n",
      "\u001b[K     |████████████████████████████████| 81kB 8.4MB/s \n",
      "\u001b[?25hCollecting docker>=4.0.0\n",
      "\u001b[?25l  Downloading https://files.pythonhosted.org/packages/cc/ca/699d4754a932787ef353a157ada74efd1ceb6d1fc0bfb7989ae1e7b33111/docker-4.1.0-py2.py3-none-any.whl (139kB)\n",
      "\u001b[K     |████████████████████████████████| 143kB 55.2MB/s \n",
      "\u001b[?25hRequirement already satisfied: entrypoints in /usr/local/lib/python3.6/dist-packages (from mlflow) (0.3)\n",
      "Requirement already satisfied: sqlparse in /usr/local/lib/python3.6/dist-packages (from mlflow) (0.3.0)\n",
      "Requirement already satisfied: sqlalchemy in /usr/local/lib/python3.6/dist-packages (from mlflow) (1.3.10)\n",
      "Collecting gorilla\n",
      "  Downloading https://files.pythonhosted.org/packages/e3/56/5a683944cbfc77e429c6f03c636ca50504a785f60ffae91ddd7f5f7bb520/gorilla-0.3.0-py2.py3-none-any.whl\n",
      "Requirement already satisfied: gunicorn in /usr/local/lib/python3.6/dist-packages (from mlflow) (19.9.0)\n",
      "Collecting Mako\n",
      "\u001b[?25l  Downloading https://files.pythonhosted.org/packages/b0/3c/8dcd6883d009f7cae0f3157fb53e9afb05a0d3d33b3db1268ec2e6f4a56b/Mako-1.1.0.tar.gz (463kB)\n",
      "\u001b[K     |████████████████████████████████| 471kB 46.2MB/s \n",
      "\u001b[?25hCollecting python-editor>=0.3\n",
      "  Downloading https://files.pythonhosted.org/packages/c6/d3/201fc3abe391bbae6606e6f1d598c15d367033332bd54352b12f35513717/python_editor-1.0.4-py3-none-any.whl\n",
      "Requirement already satisfied: tabulate>=0.7.7 in /usr/local/lib/python3.6/dist-packages (from databricks-cli>=0.8.7->mlflow) (0.8.5)\n",
      "Collecting configparser>=0.3.5\n",
      "  Downloading https://files.pythonhosted.org/packages/7a/2a/95ed0501cf5d8709490b1d3a3f9b5cf340da6c433f896bbe9ce08dbe6785/configparser-4.0.2-py2.py3-none-any.whl\n",
      "Requirement already satisfied: idna<2.9,>=2.5 in /tensorflow-2.0.0/python3.6 (from requests>=2.17.3->mlflow) (2.8)\n",
      "Requirement already satisfied: chardet<3.1.0,>=3.0.2 in /tensorflow-2.0.0/python3.6 (from requests>=2.17.3->mlflow) (3.0.4)\n",
      "Requirement already satisfied: certifi>=2017.4.17 in /tensorflow-2.0.0/python3.6 (from requests>=2.17.3->mlflow) (2019.9.11)\n",
      "Requirement already satisfied: urllib3!=1.25.0,!=1.25.1,<1.26,>=1.21.1 in /tensorflow-2.0.0/python3.6 (from requests>=2.17.3->mlflow) (1.25.6)\n",
      "Requirement already satisfied: itsdangerous>=0.24 in /usr/local/lib/python3.6/dist-packages (from Flask->mlflow) (1.1.0)\n",
      "Requirement already satisfied: Werkzeug>=0.15 in /tensorflow-2.0.0/python3.6 (from Flask->mlflow) (0.16.0)\n",
      "Requirement already satisfied: Jinja2>=2.10.1 in /usr/local/lib/python3.6/dist-packages (from Flask->mlflow) (2.10.3)\n",
      "Requirement already satisfied: pytz>=2017.2 in /usr/local/lib/python3.6/dist-packages (from pandas->mlflow) (2018.9)\n",
      "Requirement already satisfied: setuptools in /tensorflow-2.0.0/python3.6 (from protobuf>=3.6.0->mlflow) (41.6.0)\n",
      "Collecting gitdb2>=2.0.0\n",
      "\u001b[?25l  Downloading https://files.pythonhosted.org/packages/03/6c/99296f89bad2ef85626e1df9f677acbee8885bb043ad82ad3ed4746d2325/gitdb2-2.0.6-py2.py3-none-any.whl (63kB)\n",
      "\u001b[K     |████████████████████████████████| 71kB 8.6MB/s \n",
      "\u001b[?25hCollecting websocket-client>=0.32.0\n",
      "\u001b[?25l  Downloading https://files.pythonhosted.org/packages/29/19/44753eab1fdb50770ac69605527e8859468f3c0fd7dc5a76dd9c4dbd7906/websocket_client-0.56.0-py2.py3-none-any.whl (200kB)\n",
      "\u001b[K     |████████████████████████████████| 204kB 55.7MB/s \n",
      "\u001b[?25hRequirement already satisfied: MarkupSafe>=0.9.2 in /usr/local/lib/python3.6/dist-packages (from Mako->alembic->mlflow) (1.1.1)\n",
      "Collecting smmap2>=2.0.0\n",
      "  Downloading https://files.pythonhosted.org/packages/55/d2/866d45e3a121ee15a1dc013824d58072fd5c7799c9c34d01378eb262ca8f/smmap2-2.0.5-py2.py3-none-any.whl\n",
      "Building wheels for collected packages: mlflow, alembic, databricks-cli, querystring-parser, simplejson, Mako\n",
      "  Building wheel for mlflow (setup.py) ... \u001b[?25l\u001b[?25hdone\n",
      "  Created wheel for mlflow: filename=mlflow-1.4.0-cp36-none-any.whl size=14750368 sha256=9f92a61df7eef9753f99712238e7124cddf926f8e8985ce2cc40f4dbedeb43ec\n",
      "  Stored in directory: /root/.cache/pip/wheels/5d/0e/cc/79315d41833b92a8a9e276716874f2c1dc654018b44632dc06\n",
      "  Building wheel for alembic (setup.py) ... \u001b[?25l\u001b[?25hdone\n",
      "  Created wheel for alembic: filename=alembic-1.3.0-py2.py3-none-any.whl size=144427 sha256=6f843dd995bd7cb92c96456e547ee4d82823ab169ab1930b70544a8a0b134b3a\n",
      "  Stored in directory: /root/.cache/pip/wheels/40/f8/22/ad0f408796a4c656fae5ee1fd8d8a139b19ca4af61059cea5b\n",
      "  Building wheel for databricks-cli (setup.py) ... \u001b[?25l\u001b[?25hdone\n",
      "  Created wheel for databricks-cli: filename=databricks_cli-0.9.1-cp36-none-any.whl size=83754 sha256=e86889db51e8570547ce8320929d0fff492811c40f8b112fcfd5618ab14685f9\n",
      "  Stored in directory: /root/.cache/pip/wheels/bc/27/58/c6ef96e649962e9584a50f58d5b6abafb71a03512b2e381ad1\n",
      "  Building wheel for querystring-parser (setup.py) ... \u001b[?25l\u001b[?25hdone\n",
      "  Created wheel for querystring-parser: filename=querystring_parser-1.2.4-cp36-none-any.whl size=7078 sha256=1acf12997f6b6086140739388aea88fa85bf37fe0a6bb773765f05dfee9cd06e\n",
      "  Stored in directory: /root/.cache/pip/wheels/1e/41/34/23ebf5d1089a9aed847951e0ee375426eb4ad0a7079d88d41e\n",
      "  Building wheel for simplejson (setup.py) ... \u001b[?25l\u001b[?25hdone\n",
      "  Created wheel for simplejson: filename=simplejson-3.16.0-cp36-cp36m-linux_x86_64.whl size=114018 sha256=5e69dd1ce66616b69d999423da517b7c0bae20dfd40a95085d4a552722e5fce0\n",
      "  Stored in directory: /root/.cache/pip/wheels/5d/1a/1e/0350bb3df3e74215cd91325344cc86c2c691f5306eb4d22c77\n",
      "  Building wheel for Mako (setup.py) ... \u001b[?25l\u001b[?25hdone\n",
      "  Created wheel for Mako: filename=Mako-1.1.0-cp36-none-any.whl size=75363 sha256=0eebeb0ee91994f1e104fa46dc44276f0d4a02273cd5de2778af3034709bd27c\n",
      "  Stored in directory: /root/.cache/pip/wheels/98/32/7b/a291926643fc1d1e02593e0d9e247c5a866a366b8343b7aa27\n",
      "Successfully built mlflow alembic databricks-cli querystring-parser simplejson Mako\n",
      "Installing collected packages: Mako, python-editor, alembic, configparser, databricks-cli, smmap2, gitdb2, gitpython, querystring-parser, simplejson, websocket-client, docker, gorilla, mlflow\n",
      "Successfully installed Mako-1.1.0 alembic-1.3.0 configparser-4.0.2 databricks-cli-0.9.1 docker-4.1.0 gitdb2-2.0.6 gitpython-3.0.4 gorilla-0.3.0 mlflow-1.4.0 python-editor-1.0.4 querystring-parser-1.2.4 simplejson-3.16.0 smmap2-2.0.5 websocket-client-0.56.0\n"
     ]
    }
   ],
   "source": [
    "try:\n",
    "    import mlflow\n",
    "except Exception:\n",
    "    !pip install mlflow\n",
    "    import mlflow\n",
    "    pass"
   ]
  },
  {
   "cell_type": "code",
   "execution_count": 3,
   "metadata": {
    "colab": {
     "base_uri": "https://localhost:8080/",
     "height": 205
    },
    "colab_type": "code",
    "executionInfo": {
     "elapsed": 33760,
     "status": "ok",
     "timestamp": 1573142279730,
     "user": {
      "displayName": "Javier Alvarez",
      "photoUrl": "https://lh3.googleusercontent.com/a-/AAuE7mCpj6NcAdMItepXkUoq108X2wyUwQIMkXfM7KclgAg=s64",
      "userId": "16571654116830885687"
     },
     "user_tz": 180
    },
    "id": "sZX5YSV-O8m2",
    "outputId": "49c267c2-f29d-4fb7-9e7f-2dd4a9949db2",
    "scrolled": false
   },
   "outputs": [
    {
     "name": "stderr",
     "output_type": "stream",
     "text": [
      "/usr/local/lib/python3.6/dist-packages/_pytest/mark/structures.py:426: DeprecationWarning: The usage of `cmp` is deprecated and will be removed on or after 2021-06-01.  Please use `eq` and `order` instead.\n",
      "  @attr.s(cmp=False, hash=False)\n",
      "/usr/local/lib/python3.6/dist-packages/scipy/sparse/sparsetools.py:21: DeprecationWarning: `scipy.sparse.sparsetools` is deprecated!\n",
      "scipy.sparse.sparsetools is a private module for scipy.sparse, and should not be used.\n",
      "  _deprecated()\n"
     ]
    },
    {
     "name": "stdout",
     "output_type": "stream",
     "text": [
      "[nltk_data] Downloading package punkt to /root/nltk_data...\n",
      "[nltk_data]   Unzipping tokenizers/punkt.zip.\n",
      "[nltk_data] Downloading package stopwords to /root/nltk_data...\n",
      "[nltk_data]   Unzipping corpora/stopwords.zip.\n"
     ]
    }
   ],
   "source": [
    "import nltk\n",
    "import numpy as np\n",
    "import os\n",
    "import pandas as pd\n",
    "import matplotlib.pyplot as plt\n",
    "import seaborn as sb\n",
    "\n",
    "from IPython.display import SVG\n",
    "from gensim import corpora\n",
    "from nltk import word_tokenize\n",
    "from nltk.corpus import stopwords\n",
    "from pprint import pprint\n",
    "\n",
    "nltk.download([\"punkt\", \"stopwords\"]);"
   ]
  },
  {
   "cell_type": "markdown",
   "metadata": {
    "colab_type": "text",
    "id": "ycdrpXG8O8ni"
   },
   "source": [
    "## Carga de los datos"
   ]
  },
  {
   "cell_type": "code",
   "execution_count": 1,
   "metadata": {
    "colab": {},
    "colab_type": "code",
    "id": "IXJIqJ0IO8nk"
   },
   "outputs": [],
   "source": [
    "DATA_DIRECTORY = '../petfinder_dataset/'"
   ]
  },
  {
   "cell_type": "code",
   "execution_count": 5,
   "metadata": {
    "colab": {
     "base_uri": "https://localhost:8080/",
     "height": 317
    },
    "colab_type": "code",
    "executionInfo": {
     "elapsed": 34541,
     "status": "ok",
     "timestamp": 1573142280592,
     "user": {
      "displayName": "Javier Alvarez",
      "photoUrl": "https://lh3.googleusercontent.com/a-/AAuE7mCpj6NcAdMItepXkUoq108X2wyUwQIMkXfM7KclgAg=s64",
      "userId": "16571654116830885687"
     },
     "user_tz": 180
    },
    "id": "ANc2Kix4O8nx",
    "outputId": "af5bece5-dd87-4654-a769-34112f93e9b0"
   },
   "outputs": [
    {
     "data": {
      "text/html": [
       "<div>\n",
       "<style scoped>\n",
       "    .dataframe tbody tr th:only-of-type {\n",
       "        vertical-align: middle;\n",
       "    }\n",
       "\n",
       "    .dataframe tbody tr th {\n",
       "        vertical-align: top;\n",
       "    }\n",
       "\n",
       "    .dataframe thead th {\n",
       "        text-align: right;\n",
       "    }\n",
       "</style>\n",
       "<table border=\"1\" class=\"dataframe\">\n",
       "  <thead>\n",
       "    <tr style=\"text-align: right;\">\n",
       "      <th></th>\n",
       "      <th>Type</th>\n",
       "      <th>Age</th>\n",
       "      <th>Breed1</th>\n",
       "      <th>Breed2</th>\n",
       "      <th>Gender</th>\n",
       "      <th>Color1</th>\n",
       "      <th>Color2</th>\n",
       "      <th>Color3</th>\n",
       "      <th>MaturitySize</th>\n",
       "      <th>FurLength</th>\n",
       "      <th>Vaccinated</th>\n",
       "      <th>Dewormed</th>\n",
       "      <th>Sterilized</th>\n",
       "      <th>Health</th>\n",
       "      <th>Quantity</th>\n",
       "      <th>Fee</th>\n",
       "      <th>State</th>\n",
       "      <th>Description</th>\n",
       "      <th>AdoptionSpeed</th>\n",
       "      <th>PID</th>\n",
       "    </tr>\n",
       "  </thead>\n",
       "  <tbody>\n",
       "    <tr>\n",
       "      <th>0</th>\n",
       "      <td>2</td>\n",
       "      <td>3</td>\n",
       "      <td>299</td>\n",
       "      <td>0</td>\n",
       "      <td>1</td>\n",
       "      <td>1</td>\n",
       "      <td>7</td>\n",
       "      <td>0</td>\n",
       "      <td>1</td>\n",
       "      <td>1</td>\n",
       "      <td>2</td>\n",
       "      <td>2</td>\n",
       "      <td>2</td>\n",
       "      <td>1</td>\n",
       "      <td>1</td>\n",
       "      <td>100</td>\n",
       "      <td>41326</td>\n",
       "      <td>Nibble is a 3+ month old ball of cuteness. He ...</td>\n",
       "      <td>2</td>\n",
       "      <td>0</td>\n",
       "    </tr>\n",
       "    <tr>\n",
       "      <th>1</th>\n",
       "      <td>1</td>\n",
       "      <td>4</td>\n",
       "      <td>307</td>\n",
       "      <td>0</td>\n",
       "      <td>2</td>\n",
       "      <td>1</td>\n",
       "      <td>2</td>\n",
       "      <td>0</td>\n",
       "      <td>2</td>\n",
       "      <td>1</td>\n",
       "      <td>1</td>\n",
       "      <td>1</td>\n",
       "      <td>2</td>\n",
       "      <td>1</td>\n",
       "      <td>1</td>\n",
       "      <td>150</td>\n",
       "      <td>41401</td>\n",
       "      <td>Good guard dog, very alert, active, obedience ...</td>\n",
       "      <td>2</td>\n",
       "      <td>3</td>\n",
       "    </tr>\n",
       "    <tr>\n",
       "      <th>2</th>\n",
       "      <td>1</td>\n",
       "      <td>1</td>\n",
       "      <td>307</td>\n",
       "      <td>0</td>\n",
       "      <td>1</td>\n",
       "      <td>1</td>\n",
       "      <td>0</td>\n",
       "      <td>0</td>\n",
       "      <td>2</td>\n",
       "      <td>1</td>\n",
       "      <td>2</td>\n",
       "      <td>2</td>\n",
       "      <td>2</td>\n",
       "      <td>1</td>\n",
       "      <td>1</td>\n",
       "      <td>0</td>\n",
       "      <td>41326</td>\n",
       "      <td>This handsome yet cute boy is up for adoption....</td>\n",
       "      <td>2</td>\n",
       "      <td>4</td>\n",
       "    </tr>\n",
       "  </tbody>\n",
       "</table>\n",
       "</div>"
      ],
      "text/plain": [
       "   Type  Age  ...  AdoptionSpeed  PID\n",
       "0     2    3  ...              2    0\n",
       "1     1    4  ...              2    3\n",
       "2     1    1  ...              2    4\n",
       "\n",
       "[3 rows x 20 columns]"
      ]
     },
     "execution_count": 5,
     "metadata": {
      "tags": []
     },
     "output_type": "execute_result"
    }
   ],
   "source": [
    "dataset = pd.read_csv(os.path.join(DATA_DIRECTORY, 'train.csv'))\n",
    "\n",
    "target_col = 'AdoptionSpeed'\n",
    "nlabels = dataset[target_col].unique().shape[0]\n",
    "\n",
    "dataset.head(3)"
   ]
  },
  {
   "cell_type": "markdown",
   "metadata": {
    "colab_type": "text",
    "id": "U-FBduscO8n4"
   },
   "source": [
    "## Preproceso del texto para agregarlo como feature (manejo de secuencias)\n",
    "\n",
    "A diferencia del práctico anterior, en este caso es necesario utilizar el texto como feature extra. Pueden luego agregarlo a una red recurrente o convolucional y concatenar su salida a los atributos \"escalares\" (como \"raza\" o \"género\").\n",
    "\n",
    "A continuación les mostraremos los pasos a seguir para ello. La descripción detallada de para que sirve cada paso se encuentra disponible en el [notebook 3](./3_cnns.ipynb).\n",
    "\n",
    "### Tokenización"
   ]
  },
  {
   "cell_type": "code",
   "execution_count": 0,
   "metadata": {
    "colab": {},
    "colab_type": "code",
    "id": "bEzHvc4lO8n8"
   },
   "outputs": [],
   "source": [
    "SW = set(stopwords.words(\"english\"))\n",
    "\n",
    "def tokenize_description(description):\n",
    "    return [w.lower() for w in word_tokenize(description, language=\"english\") if w.lower() not in SW]\n",
    "\n",
    "# Fill the null values with the empty string to avoid errors with NLTK tokenization\n",
    "dataset[\"TokenizedDescription\"] = dataset[\"Description\"].fillna(value=\"\").apply(tokenize_description)"
   ]
  },
  {
   "cell_type": "markdown",
   "metadata": {
    "colab_type": "text",
    "id": "zquK_o16O8oD"
   },
   "source": [
    "#### Tamaño de las descripciones\n",
    "\n",
    "Un punto importante a tener en cuenta es que las descripciones tienen tamaño variable, y esto no es compatible con los algoritmos de aprendizaje automático. Por lo que hay que llevar las secuencias a un tamaño uniforme.\n",
    "\n",
    "Para definir dicho tamaño uniforme, es útil mirar qué tamaños mínimos, máximos y medios manejan las descripciones y a partir de esto establecer el tamaño máximo de la secuencia."
   ]
  },
  {
   "cell_type": "code",
   "execution_count": 7,
   "metadata": {
    "colab": {
     "base_uri": "https://localhost:8080/",
     "height": 185
    },
    "colab_type": "code",
    "executionInfo": {
     "elapsed": 41038,
     "status": "ok",
     "timestamp": 1573142287144,
     "user": {
      "displayName": "Javier Alvarez",
      "photoUrl": "https://lh3.googleusercontent.com/a-/AAuE7mCpj6NcAdMItepXkUoq108X2wyUwQIMkXfM7KclgAg=s64",
      "userId": "16571654116830885687"
     },
     "user_tz": 180
    },
    "id": "0T4gSeT2O8oL",
    "outputId": "cbd93c9b-2e37-40b7-cf08-0eb198e56b80"
   },
   "outputs": [
    {
     "name": "stdout",
     "output_type": "stream",
     "text": [
      "count    10582.000000\n",
      "mean        44.418541\n",
      "std         48.464623\n",
      "min          0.000000\n",
      "25%         16.000000\n",
      "50%         31.000000\n",
      "75%         55.000000\n",
      "max        803.000000\n",
      "Name: TokenizedDescription, dtype: float64\n"
     ]
    }
   ],
   "source": [
    "pprint(dataset[\"TokenizedDescription\"].apply(len).describe())"
   ]
  },
  {
   "cell_type": "markdown",
   "metadata": {
    "colab_type": "text",
    "id": "fHMluxxfO8oR"
   },
   "source": [
    "Vemos que más del 75% de las secuencias tienen 55 palabras o menos. Esto es un buen punto de partida, así que podemos establecer el tamaño máximo de las secuencia en 55 palabras."
   ]
  },
  {
   "cell_type": "code",
   "execution_count": 0,
   "metadata": {
    "colab": {},
    "colab_type": "code",
    "id": "5yUogp6XO8oT"
   },
   "outputs": [],
   "source": [
    "MAX_SEQUENCE_LEN = 55"
   ]
  },
  {
   "cell_type": "markdown",
   "metadata": {
    "colab_type": "text",
    "id": "KpcrwrYiO8of"
   },
   "source": [
    "## Vocabulario"
   ]
  },
  {
   "cell_type": "code",
   "execution_count": 0,
   "metadata": {
    "colab": {},
    "colab_type": "code",
    "id": "Ok9dF1SSO8oh"
   },
   "outputs": [],
   "source": [
    "vocabulary = corpora.Dictionary(dataset[\"TokenizedDescription\"])\n",
    "vocabulary.filter_extremes(no_below=1, no_above=1.0, keep_n=10000)"
   ]
  },
  {
   "cell_type": "markdown",
   "metadata": {
    "colab_type": "text",
    "id": "mcXYlKiLO8or"
   },
   "source": [
    "## Word Embeddings (GloVe)"
   ]
  },
  {
   "cell_type": "code",
   "execution_count": 0,
   "metadata": {
    "colab": {},
    "colab_type": "code",
    "id": "QNXkz6rxktl6"
   },
   "outputs": [],
   "source": [
    "#%%bash\n",
    "\n",
    "# Descargar los datos de IMDB\n",
    "#mkdir -p dataset\n",
    "#curl -L -o ./dataset/imdb_reviews.csv.gz https://cs.famaf.unc.edu.ar/~ccardellino/resources/diplodatos/imdb_reviews.csv.gz\n",
    "\n",
    "# Descargar los word embeddings (GloVe)\n",
    "#curl -L -o ./dataset/glove.6B.zip https://cs.famaf.unc.edu.ar/~ccardellino/resources/diplodatos/glove.6B.zip\n",
    "#unzip ./dataset/glove.6B.zip glove.6B.100d.txt -d ./dataset"
   ]
  },
  {
   "cell_type": "code",
   "execution_count": 12,
   "metadata": {
    "colab": {
     "base_uri": "https://localhost:8080/",
     "height": 36
    },
    "colab_type": "code",
    "executionInfo": {
     "elapsed": 188195,
     "status": "ok",
     "timestamp": 1573142434381,
     "user": {
      "displayName": "Javier Alvarez",
      "photoUrl": "https://lh3.googleusercontent.com/a-/AAuE7mCpj6NcAdMItepXkUoq108X2wyUwQIMkXfM7KclgAg=s64",
      "userId": "16571654116830885687"
     },
     "user_tz": 180
    },
    "id": "PO5KkBbBO8ow",
    "outputId": "9456af52-1df6-4757-e298-ea2a8fb6f778"
   },
   "outputs": [
    {
     "name": "stdout",
     "output_type": "stream",
     "text": [
      "Found 7897 word vectors.\n"
     ]
    }
   ],
   "source": [
    "embeddings_index = {}\n",
    "\n",
    "with open(\"/content/drive/My Drive/Colab Notebooks/glove.6B.100d.txt\", \"r\") as fh:\n",
    "    for line in fh:\n",
    "        values = line.split()\n",
    "        word = values[0]\n",
    "        if word in vocabulary.token2id:  # Only use the embeddings of words in our vocabulary\n",
    "            coefs = np.asarray(values[1:], dtype='float32')\n",
    "            embeddings_index[word] = coefs\n",
    "\n",
    "print(\"Found {} word vectors.\".format(len(embeddings_index)))"
   ]
  },
  {
   "cell_type": "markdown",
   "metadata": {
    "colab_type": "text",
    "id": "k-FZb3PTO8o1"
   },
   "source": [
    "## Creación de los datasets\n",
    "\n",
    "Similar al práctico anterior, tendremos datos que serán \"one-hot-encoded\", otros serán \"embeddings\" y otros serán numéricos.\n",
    "\n",
    "El caso particular del texto es que será tratado como una secuencia de embeddings, y dichos embeddings no serán entrenados en conjunto con la red, sino que serán tomados de un modelo \"pre-entrenado\". En este caso utilizamos GloVe, pero podríamos haber utilizado otro modelo (e.g. FastText)."
   ]
  },
  {
   "cell_type": "code",
   "execution_count": 0,
   "metadata": {
    "colab": {},
    "colab_type": "code",
    "id": "oriZywWaO8o3"
   },
   "outputs": [],
   "source": [
    "# It's important to always use the same one-hot length\n",
    "one_hot_columns = {\n",
    "    one_hot_col: dataset[one_hot_col].max()\n",
    "    for one_hot_col in ['Type', 'Gender', 'MaturitySize', 'FurLength', \n",
    "                        'Vaccinated', 'Dewormed', 'Sterilized', 'Health']\n",
    "}\n",
    "embedded_columns = {\n",
    "    embedded_col: dataset[embedded_col].max() + 1\n",
    "    for embedded_col in ['Color1', 'Color2', 'Color3', 'Breed1', 'Breed2', 'State']\n",
    "}\n",
    "numerical_columns = ['Age', 'Fee', 'Quantity']"
   ]
  },
  {
   "cell_type": "markdown",
   "metadata": {
    "colab_type": "text",
    "id": "LzHvmlx4O8pQ"
   },
   "source": [
    "## Generador del conjunto de datos\n",
    "\n",
    "Dada la naturaleza de los datos de texto, y que estos representan una secuencia de datos (que se da luego a una red recurrente o convolucional), en este caso no crearemos los datasets de antemano, sino que los generaremos a medida que el algoritmo de entrenamiento los pida. \n",
    "\n",
    "En particular, es porque las secuencias de texto pueden no tener el mismo tamaño (las oraciones tienen diferente cantidad de palabras), pero para que los modelos de redes las acepten, necesitamos rellenarlas (*padding*) de manera que todas tengan el mismo tamaño.\n",
    "\n",
    "En este paso también vamos a truncar aquellas secuencias de descripciones con más de `MAX_SEQUENCE_LEN` palabras, de manera que al hacer uso de `padded_batch` no lance un error al encontrarse con secuencias de tamaño mayor."
   ]
  },
  {
   "cell_type": "code",
   "execution_count": 14,
   "metadata": {
    "colab": {
     "base_uri": "https://localhost:8080/",
     "height": 559
    },
    "colab_type": "code",
    "executionInfo": {
     "elapsed": 189160,
     "status": "ok",
     "timestamp": 1573142435381,
     "user": {
      "displayName": "Javier Alvarez",
      "photoUrl": "https://lh3.googleusercontent.com/a-/AAuE7mCpj6NcAdMItepXkUoq108X2wyUwQIMkXfM7KclgAg=s64",
      "userId": "16571654116830885687"
     },
     "user_tz": 180
    },
    "id": "m6agLrJrO8pS",
    "outputId": "faad7c26-e29c-4dbe-89ae-9ff3e9910021"
   },
   "outputs": [
    {
     "name": "stdout",
     "output_type": "stream",
     "text": [
      "{'Breed1': <tf.Tensor: id=47, shape=(1,), dtype=int32, numpy=array([299], dtype=int32)>,\n",
      " 'Breed2': <tf.Tensor: id=48, shape=(1,), dtype=int32, numpy=array([0], dtype=int32)>,\n",
      " 'Color1': <tf.Tensor: id=49, shape=(1,), dtype=int32, numpy=array([1], dtype=int32)>,\n",
      " 'Color2': <tf.Tensor: id=50, shape=(1,), dtype=int32, numpy=array([7], dtype=int32)>,\n",
      " 'Color3': <tf.Tensor: id=51, shape=(1,), dtype=int32, numpy=array([0], dtype=int32)>,\n",
      " 'State': <tf.Tensor: id=52, shape=(1,), dtype=int32, numpy=array([41326], dtype=int32)>,\n",
      " 'description': <tf.Tensor: id=53, shape=(42,), dtype=int32, numpy=\n",
      "array([23,  2, 20, 24,  4, 10,  1, 11, 26,  1, 27,  9,  6, 21,  3,  8, 15,\n",
      "       22, 33,  7, 13, 30,  1, 29, 18, 17,  1, 12, 31, 14,  5,  6, 16,  1,\n",
      "       19, 28, 25, 32, 23,  0,  5,  1], dtype=int32)>,\n",
      " 'direct_features': <tf.Tensor: id=54, shape=(24,), dtype=float32, numpy=\n",
      "array([0., 1., 1., 0., 0., 1., 0., 0., 0., 1., 0., 0., 0., 1., 0., 0., 1.,\n",
      "       0., 0., 1., 0., 1., 0., 0.], dtype=float32)>}\n",
      "<tf.Tensor: id=55, shape=(5,), dtype=int32, numpy=array([0, 0, 1, 0, 0], dtype=int32)>\n",
      "\n",
      "{'Breed1': <tf.Tensor: id=56, shape=(1,), dtype=int32, numpy=array([307], dtype=int32)>,\n",
      " 'Breed2': <tf.Tensor: id=57, shape=(1,), dtype=int32, numpy=array([0], dtype=int32)>,\n",
      " 'Color1': <tf.Tensor: id=58, shape=(1,), dtype=int32, numpy=array([1], dtype=int32)>,\n",
      " 'Color2': <tf.Tensor: id=59, shape=(1,), dtype=int32, numpy=array([2], dtype=int32)>,\n",
      " 'Color3': <tf.Tensor: id=60, shape=(1,), dtype=int32, numpy=array([0], dtype=int32)>,\n",
      " 'State': <tf.Tensor: id=61, shape=(1,), dtype=int32, numpy=array([41401], dtype=int32)>,\n",
      " 'description': <tf.Tensor: id=62, shape=(24,), dtype=int32, numpy=\n",
      "array([41, 42, 40, 35, 37, 35, 36, 35, 45, 50, 41, 44, 35, 46, 38, 48, 39,\n",
      "       47, 15, 43, 35, 49, 34, 34], dtype=int32)>,\n",
      " 'direct_features': <tf.Tensor: id=63, shape=(24,), dtype=float32, numpy=\n",
      "array([1., 0., 0., 1., 0., 0., 1., 0., 0., 1., 0., 0., 1., 0., 0., 1., 0.,\n",
      "       0., 0., 1., 0., 1., 0., 0.], dtype=float32)>}\n",
      "<tf.Tensor: id=64, shape=(5,), dtype=int32, numpy=array([0, 0, 1, 0, 0], dtype=int32)>\n",
      "\n"
     ]
    }
   ],
   "source": [
    "def dataset_generator(ds, test_data=False):\n",
    "    for _, row in ds.iterrows():\n",
    "        instance = {}\n",
    "        \n",
    "        # One hot encoded features\n",
    "        instance[\"direct_features\"] = np.hstack([\n",
    "            tf.keras.utils.to_categorical(row[one_hot_col] - 1, max_value)\n",
    "            for one_hot_col, max_value in one_hot_columns.items()\n",
    "        ])\n",
    "\n",
    "        # Numeric features (should be normalized beforehand)\n",
    "        # TODO: Add numeric features for row\n",
    "        \n",
    "        # Embedded features\n",
    "        for embedded_col in embedded_columns:\n",
    "            instance[embedded_col] = [row[embedded_col]]\n",
    "        \n",
    "        # Document to indices for text data, truncated at MAX_SEQUENCE_LEN words\n",
    "        instance[\"description\"] = vocabulary.doc2idx(\n",
    "            row[\"TokenizedDescription\"],\n",
    "            unknown_word_index=len(vocabulary)\n",
    "        )[:MAX_SEQUENCE_LEN]\n",
    "        \n",
    "        # One hot encoded target for categorical crossentropy\n",
    "        if not test_data:\n",
    "            target = tf.keras.utils.to_categorical(row[target_col], nlabels)\n",
    "            yield instance, target\n",
    "        else:\n",
    "            yield instance\n",
    "\n",
    "# Set output types of the generator (for numeric types check the type is valid)\n",
    "instance_types = {\n",
    "    \"direct_features\": tf.float32,\n",
    "    \"description\": tf.int32\n",
    "}\n",
    "\n",
    "for embedded_col in embedded_columns:\n",
    "    instance_types[embedded_col] = tf.int32\n",
    "\n",
    "tf_dataset = tf.data.Dataset.from_generator(\n",
    "    lambda: dataset_generator(dataset),\n",
    "    output_types=(instance_types, tf.int32)\n",
    ")\n",
    "\n",
    "for data, target in tf_dataset.take(2):\n",
    "    pprint(data)\n",
    "    pprint(target)\n",
    "    print()"
   ]
  },
  {
   "cell_type": "markdown",
   "metadata": {
    "colab_type": "text",
    "id": "0VpG4qc9O8pX"
   },
   "source": [
    "## Datos de entrenamiento y validación\n",
    "\n",
    "Ya generado el conjunto de datos base, tenemos que dividirlo en entrenamiento y validación. Además, como vamos a utilizar algunos datos que forman secuencias, los lotes (*batches*) de datos deben estar \"rellenados\" (*padded_batch*). \n",
    "\n",
    "Si bien rellenaremos \"todos\" los atributos, en la práctica el único que efectivamente se rellenará es el de *description* pues es el único con tamaños distintos."
   ]
  },
  {
   "cell_type": "code",
   "execution_count": 0,
   "metadata": {
    "colab": {},
    "colab_type": "code",
    "id": "egEUUdUeO8pZ"
   },
   "outputs": [],
   "source": [
    "TRAIN_SIZE = int(dataset.shape[0] * 0.8)\n",
    "DEV_SIZE = dataset.shape[0] - TRAIN_SIZE\n",
    "BATCH_SIZE = 500  #128 era el original\n",
    "\n",
    "shuffled_dataset = tf_dataset.shuffle(TRAIN_SIZE + DEV_SIZE, seed=42)\n",
    "\n",
    "# Pad the datasets to the max value for all the \"non sequence\" features\n",
    "padding_shapes = (\n",
    "    {k: [-1] for k in [\"direct_features\"] + list(embedded_columns.keys())},\n",
    "    [-1]\n",
    ")\n",
    "\n",
    "# Pad to MAX_SEQUENCE_LEN for sequence features\n",
    "padding_shapes[0][\"description\"] = [MAX_SEQUENCE_LEN]\n",
    "\n",
    "# Pad values are irrelevant for non padded data\n",
    "padding_values = (\n",
    "    {k: 0 for k in list(embedded_columns.keys())},\n",
    "    0\n",
    ")\n",
    "\n",
    "# Padding value for direct features should be a float\n",
    "padding_values[0][\"direct_features\"] = np.float32(0)\n",
    "\n",
    "# Padding value for sequential features is the vocabulary length + 1\n",
    "padding_values[0][\"description\"] = len(vocabulary) + 1\n",
    "\n",
    "train_dataset = shuffled_dataset.skip(DEV_SIZE)\\\n",
    "    .padded_batch(BATCH_SIZE, padded_shapes=padding_shapes, padding_values=padding_values)\n",
    "\n",
    "dev_dataset = shuffled_dataset.take(DEV_SIZE)\\\n",
    "    .padded_batch(BATCH_SIZE, padded_shapes=padding_shapes, padding_values=padding_values)"
   ]
  },
  {
   "cell_type": "markdown",
   "metadata": {
    "colab_type": "text",
    "id": "_lBWz9HNO8pg"
   },
   "source": [
    "## Construyendo el modelo\n",
    "\n",
    "Al modelo anterior tenemos que agregarle la capa que maneje los embeddings de las palabras, e inicializarla de manera acorde, podemos guiarnos por lo visto en el [notebook 3](./3_cnns.ipynb) para hacer esto.\n",
    "\n",
    "### Matriz de embeddings de palabras"
   ]
  },
  {
   "cell_type": "code",
   "execution_count": 0,
   "metadata": {
    "colab": {},
    "colab_type": "code",
    "id": "jE8z6IMcO8pj"
   },
   "outputs": [],
   "source": [
    "EMBEDDINGS_DIM = 100  # Given by the model (in this case glove.6B.100d)\n",
    "\n",
    "embedding_matrix = np.zeros((len(vocabulary) + 2, 100))\n",
    "\n",
    "for widx, word in vocabulary.items():\n",
    "    embedding_vector = embeddings_index.get(word)\n",
    "    if embedding_vector is not None:\n",
    "        embedding_matrix[widx] = embedding_vector\n",
    "    else:\n",
    "        # Random normal initialization for words without embeddings\n",
    "        embedding_matrix[widx] = np.random.normal(size=(100,))  \n",
    "\n",
    "# Random normal initialization for unknown words\n",
    "embedding_matrix[len(vocabulary)] = np.random.normal(size=(100,))"
   ]
  },
  {
   "cell_type": "markdown",
   "metadata": {
    "colab_type": "text",
    "id": "h4bfXk3gO8pp"
   },
   "source": [
    "### Definiendo los inputs del modelo\n",
    "\n",
    "Definamos los inputs del modelo, con el agregado de la capa de embeddings de palabras inicializada en `embedding_matrix`."
   ]
  },
  {
   "cell_type": "code",
   "execution_count": 17,
   "metadata": {
    "colab": {
     "base_uri": "https://localhost:8080/",
     "height": 129
    },
    "colab_type": "code",
    "executionInfo": {
     "elapsed": 196731,
     "status": "ok",
     "timestamp": 1573142442973,
     "user": {
      "displayName": "Javier Alvarez",
      "photoUrl": "https://lh3.googleusercontent.com/a-/AAuE7mCpj6NcAdMItepXkUoq108X2wyUwQIMkXfM7KclgAg=s64",
      "userId": "16571654116830885687"
     },
     "user_tz": 180
    },
    "id": "mXxJiud9O8pr",
    "outputId": "4b5a6ad1-bfe1-48f8-9d3d-9c467e2e7c5d"
   },
   "outputs": [
    {
     "name": "stdout",
     "output_type": "stream",
     "text": [
      "Adding embedding of size 2 for layer Color1\n",
      "Adding embedding of size 2 for layer Color2\n",
      "Adding embedding of size 2 for layer Color3\n",
      "Adding embedding of size 77 for layer Breed1\n",
      "Adding embedding of size 77 for layer Breed2\n",
      "Adding embedding of size 10354 for layer State\n"
     ]
    }
   ],
   "source": [
    "tf.keras.backend.clear_session()\n",
    "\n",
    "# Add one input and one embedding for each embedded column\n",
    "embedding_layers = []\n",
    "inputs = []\n",
    "for embedded_col, max_value in embedded_columns.items():\n",
    "    input_layer = tf.keras.layers.Input(shape=(1,), name=embedded_col)\n",
    "    inputs.append(input_layer)\n",
    "    # Define the embedding layer\n",
    "    embedding_size = int(max_value / 4)\n",
    "    embedding_layers.append(\n",
    "        tf.squeeze(\n",
    "            tf.keras.layers.Embedding(\n",
    "                input_dim=max_value, \n",
    "                output_dim=embedding_size\n",
    "            )(input_layer), \n",
    "            axis=-2\n",
    "        )\n",
    "    )\n",
    "    print('Adding embedding of size {} for layer {}'.format(embedding_size, embedded_col))\n",
    "\n",
    "# Add the direct features already calculated\n",
    "direct_features_input = tf.keras.layers.Input(\n",
    "    shape=(sum(one_hot_columns.values()),), \n",
    "    name='direct_features'\n",
    ")\n",
    "inputs.append(direct_features_input)\n",
    "\n",
    "# Word embedding layer\n",
    "description_input = tf.keras.layers.Input(shape=(MAX_SEQUENCE_LEN,), name=\"description\")\n",
    "inputs.append(description_input)\n",
    "\n",
    "word_embeddings_layer = tf.keras.layers.Embedding(\n",
    "    embedding_matrix.shape[0],\n",
    "    EMBEDDINGS_DIM,\n",
    "    weights=[embedding_matrix],\n",
    "    input_length=MAX_SEQUENCE_LEN,\n",
    "    trainable=False,\n",
    "    name=\"word_embedding\"\n",
    ")(description_input)\n"
   ]
  },
  {
   "cell_type": "markdown",
   "metadata": {
    "colab_type": "text",
    "id": "_rUyIqvBO8qi"
   },
   "source": [
    "### Definiendo la red que trabajará con el texto\n",
    "\n",
    "Antes de generar el *feature map* final entre los inputs y las clases, tenemos que generar el *feature map* de las secuencias de texto. \n",
    "\n",
    "Para ello pueden utilizar una red neuronal recurrente o convolucional.\n",
    "\n",
    "Pueden pensar dicha red como un submodelo del modelo general que se encarga de generar los atributos que representan la descripción de la mascota (recordemos que las redes se utilizan para hacer aprendizaje de representaciones).\n",
    "\n",
    "La red puede ser tan compleja como ustedes lo consideren pertinente."
   ]
  },
  {
   "cell_type": "code",
   "execution_count": 0,
   "metadata": {
    "colab": {},
    "colab_type": "code",
    "id": "-flwYfYGO8qj"
   },
   "outputs": [],
   "source": [
    "## TODO: Create a NN (CNN or RNN) for the description input (replace the next)\n",
    "DESCRIPTION_FEATURES_LAYER_SIZE = 512\n",
    "\n",
    "conv_1d = tf.keras.layers.Conv1D(64, 5, activation='relu')(word_embeddings_layer)\n",
    "MP_1d = tf.keras.layers.MaxPooling1D(pool_size=4)(conv_1d)\n",
    "\n",
    "description_features = tf.keras.layers.Flatten()(MP_1d)  # This is a simple concatenation\n",
    "description_features = tf.keras.layers.Dense(\n",
    "    units=DESCRIPTION_FEATURES_LAYER_SIZE, \n",
    "    activation=\"relu\", \n",
    "    name=\"description_features\")(description_features)"
   ]
  },
  {
   "cell_type": "markdown",
   "metadata": {
    "colab_type": "text",
    "id": "r28GhdfKO8qq"
   },
   "source": [
    "### Definiendo el *feature map* final de la red\n",
    "\n",
    "Ahora que tenemos nuestra representación de las descripciones, pasamos a combinarlo con los demás features en la última parte de nuestra red."
   ]
  },
  {
   "cell_type": "markdown",
   "metadata": {
    "colab_type": "text",
    "id": "lvhkkYCGLLUA"
   },
   "source": [
    "Red similar al Lab 1 pero agregando las features de Descripción:\n"
   ]
  },
  {
   "cell_type": "code",
   "execution_count": 0,
   "metadata": {
    "colab": {},
    "colab_type": "code",
    "id": "ZgIb__KPO8qt"
   },
   "outputs": [],
   "source": [
    "#Red similar al Lab 1 pero agregando las features de Descripción\n",
    "\n",
    "HIDDEN_LAYER_SIZE_L1 = 32  #En el practico anterior la mejor red era de dos layers de 32 neuronas cada una, con un accuracy de 0.31.\n",
    "\n",
    "feature_map = tf.keras.layers.Concatenate(name=\"feature_map\")(\n",
    "    embedding_layers + [description_features, direct_features_input]\n",
    ")\n",
    "\n",
    "hidden_layer_L1_1 = tf.keras.layers.Dense(HIDDEN_LAYER_SIZE_L1, activation=\"relu\")(feature_map)\n",
    "hidden_layer_L1_2 = tf.keras.layers.Dense(HIDDEN_LAYER_SIZE_L1, activation=\"relu\")(hidden_layer_L1_1)\n",
    "output_layer_L1 = tf.keras.layers.Dense(nlabels, activation=\"softmax\", name=\"output\")(hidden_layer_L1_2)\n",
    "\n",
    "model1 = tf.keras.models.Model(inputs=inputs, outputs=[output_layer_L1], name=\"Lab1_model\")"
   ]
  },
  {
   "cell_type": "code",
   "execution_count": 0,
   "metadata": {
    "colab": {},
    "colab_type": "code",
    "id": "RcnyWLnALBWg"
   },
   "outputs": [],
   "source": [
    "HIDDEN_LAYER_SIZE = 128\n",
    "\n",
    "feature_map = tf.keras.layers.Concatenate(name=\"feature_map\")(\n",
    "    embedding_layers + [description_features, direct_features_input]\n",
    ")\n",
    "\n",
    "hidden_layer = tf.keras.layers.Dense(HIDDEN_LAYER_SIZE, activation=\"relu\")(feature_map)\n",
    "#hidden_layer = tf.keras.layers.Dense(HIDDEN_LAYER_SIZE, activation=\"relu\")(MP1d)\n",
    "output_layer = tf.keras.layers.Dense(nlabels, activation=\"softmax\", name=\"output\")(hidden_layer)\n",
    "\n",
    "model = tf.keras.models.Model(inputs=inputs, outputs=[output_layer], name=\"amazing_model\")"
   ]
  },
  {
   "cell_type": "markdown",
   "metadata": {
    "colab_type": "text",
    "id": "MM6KPIm3O8qz"
   },
   "source": [
    "### Compilando y visualizando el modelo"
   ]
  },
  {
   "cell_type": "code",
   "execution_count": 34,
   "metadata": {
    "colab": {
     "base_uri": "https://localhost:8080/",
     "height": 1000
    },
    "colab_type": "code",
    "executionInfo": {
     "elapsed": 835,
     "status": "ok",
     "timestamp": 1573143664224,
     "user": {
      "displayName": "Javier Alvarez",
      "photoUrl": "https://lh3.googleusercontent.com/a-/AAuE7mCpj6NcAdMItepXkUoq108X2wyUwQIMkXfM7KclgAg=s64",
      "userId": "16571654116830885687"
     },
     "user_tz": 180
    },
    "id": "bXVJDMaoO8q0",
    "outputId": "7a8b4f52-7334-4d92-ada9-27541e9cbccf"
   },
   "outputs": [
    {
     "name": "stdout",
     "output_type": "stream",
     "text": [
      "Model: \"Lab1_model\"\n",
      "__________________________________________________________________________________________________\n",
      "Layer (type)                    Output Shape         Param #     Connected to                     \n",
      "==================================================================================================\n",
      "description (InputLayer)        [(None, 55)]         0                                            \n",
      "__________________________________________________________________________________________________\n",
      "word_embedding (Embedding)      (None, 55, 100)      1000200     description[0][0]                \n",
      "__________________________________________________________________________________________________\n",
      "conv1d_2 (Conv1D)               (None, 51, 64)       32064       word_embedding[0][0]             \n",
      "__________________________________________________________________________________________________\n",
      "Color1 (InputLayer)             [(None, 1)]          0                                            \n",
      "__________________________________________________________________________________________________\n",
      "Color2 (InputLayer)             [(None, 1)]          0                                            \n",
      "__________________________________________________________________________________________________\n",
      "Color3 (InputLayer)             [(None, 1)]          0                                            \n",
      "__________________________________________________________________________________________________\n",
      "Breed1 (InputLayer)             [(None, 1)]          0                                            \n",
      "__________________________________________________________________________________________________\n",
      "Breed2 (InputLayer)             [(None, 1)]          0                                            \n",
      "__________________________________________________________________________________________________\n",
      "State (InputLayer)              [(None, 1)]          0                                            \n",
      "__________________________________________________________________________________________________\n",
      "max_pooling1d (MaxPooling1D)    (None, 12, 64)       0           conv1d_2[0][0]                   \n",
      "__________________________________________________________________________________________________\n",
      "embedding (Embedding)           (None, 1, 2)         16          Color1[0][0]                     \n",
      "__________________________________________________________________________________________________\n",
      "embedding_1 (Embedding)         (None, 1, 2)         16          Color2[0][0]                     \n",
      "__________________________________________________________________________________________________\n",
      "embedding_2 (Embedding)         (None, 1, 2)         16          Color3[0][0]                     \n",
      "__________________________________________________________________________________________________\n",
      "embedding_3 (Embedding)         (None, 1, 77)        23716       Breed1[0][0]                     \n",
      "__________________________________________________________________________________________________\n",
      "embedding_4 (Embedding)         (None, 1, 77)        23716       Breed2[0][0]                     \n",
      "__________________________________________________________________________________________________\n",
      "embedding_5 (Embedding)         (None, 1, 10354)     428821264   State[0][0]                      \n",
      "__________________________________________________________________________________________________\n",
      "flatten_3 (Flatten)             (None, 768)          0           max_pooling1d[0][0]              \n",
      "__________________________________________________________________________________________________\n",
      "tf_op_layer_Squeeze (TensorFlow [(None, 2)]          0           embedding[0][0]                  \n",
      "__________________________________________________________________________________________________\n",
      "tf_op_layer_Squeeze_1 (TensorFl [(None, 2)]          0           embedding_1[0][0]                \n",
      "__________________________________________________________________________________________________\n",
      "tf_op_layer_Squeeze_2 (TensorFl [(None, 2)]          0           embedding_2[0][0]                \n",
      "__________________________________________________________________________________________________\n",
      "tf_op_layer_Squeeze_3 (TensorFl [(None, 77)]         0           embedding_3[0][0]                \n",
      "__________________________________________________________________________________________________\n",
      "tf_op_layer_Squeeze_4 (TensorFl [(None, 77)]         0           embedding_4[0][0]                \n",
      "__________________________________________________________________________________________________\n",
      "tf_op_layer_Squeeze_5 (TensorFl [(None, 10354)]      0           embedding_5[0][0]                \n",
      "__________________________________________________________________________________________________\n",
      "description_features (Dense)    (None, 512)          393728      flatten_3[0][0]                  \n",
      "__________________________________________________________________________________________________\n",
      "direct_features (InputLayer)    [(None, 24)]         0                                            \n",
      "__________________________________________________________________________________________________\n",
      "feature_map (Concatenate)       (None, 11050)        0           tf_op_layer_Squeeze[0][0]        \n",
      "                                                                 tf_op_layer_Squeeze_1[0][0]      \n",
      "                                                                 tf_op_layer_Squeeze_2[0][0]      \n",
      "                                                                 tf_op_layer_Squeeze_3[0][0]      \n",
      "                                                                 tf_op_layer_Squeeze_4[0][0]      \n",
      "                                                                 tf_op_layer_Squeeze_5[0][0]      \n",
      "                                                                 description_features[0][0]       \n",
      "                                                                 direct_features[0][0]            \n",
      "__________________________________________________________________________________________________\n",
      "dense_2 (Dense)                 (None, 32)           353632      feature_map[0][0]                \n",
      "__________________________________________________________________________________________________\n",
      "dense_3 (Dense)                 (None, 32)           1056        dense_2[0][0]                    \n",
      "__________________________________________________________________________________________________\n",
      "output (Dense)                  (None, 5)            165         dense_3[0][0]                    \n",
      "==================================================================================================\n",
      "Total params: 430,649,589\n",
      "Trainable params: 429,649,389\n",
      "Non-trainable params: 1,000,200\n",
      "__________________________________________________________________________________________________\n"
     ]
    }
   ],
   "source": [
    "model1.compile(loss='categorical_crossentropy', \n",
    "              optimizer='nadam',\n",
    "              metrics=['accuracy'])\n",
    "model1.summary()"
   ]
  },
  {
   "cell_type": "code",
   "execution_count": 35,
   "metadata": {
    "colab": {
     "base_uri": "https://localhost:8080/",
     "height": 692
    },
    "colab_type": "code",
    "executionInfo": {
     "elapsed": 2483,
     "status": "ok",
     "timestamp": 1573143711221,
     "user": {
      "displayName": "Javier Alvarez",
      "photoUrl": "https://lh3.googleusercontent.com/a-/AAuE7mCpj6NcAdMItepXkUoq108X2wyUwQIMkXfM7KclgAg=s64",
      "userId": "16571654116830885687"
     },
     "user_tz": 180
    },
    "id": "NHdYhcooMQa3",
    "outputId": "a4559cf0-daec-4158-a3e2-2a791267c567"
   },
   "outputs": [
    {
     "data": {
      "image/svg+xml": [
       "<svg height=\"488pt\" viewBox=\"0.00 0.00 2159.00 702.00\" width=\"1499pt\" xmlns=\"http://www.w3.org/2000/svg\" xmlns:xlink=\"http://www.w3.org/1999/xlink\">\n",
       "<g class=\"graph\" id=\"graph0\" transform=\"scale(.6944 .6944) rotate(0) translate(4 698)\">\n",
       "<title>G</title>\n",
       "<polygon fill=\"#ffffff\" points=\"-4,4 -4,-698 2155,-698 2155,4 -4,4\" stroke=\"transparent\"/>\n",
       "<!-- 140682843641728 -->\n",
       "<g class=\"node\" id=\"node1\">\n",
       "<title>140682843641728</title>\n",
       "<polygon fill=\"none\" points=\"27.5,-657.5 27.5,-693.5 178.5,-693.5 178.5,-657.5 27.5,-657.5\" stroke=\"#000000\"/>\n",
       "<text fill=\"#000000\" font-family=\"Times,serif\" font-size=\"14.00\" text-anchor=\"middle\" x=\"103\" y=\"-671.8\">description: InputLayer</text>\n",
       "</g>\n",
       "<!-- 140682843711640 -->\n",
       "<g class=\"node\" id=\"node2\">\n",
       "<title>140682843711640</title>\n",
       "<polygon fill=\"none\" points=\"6,-584.5 6,-620.5 200,-620.5 200,-584.5 6,-584.5\" stroke=\"#000000\"/>\n",
       "<text fill=\"#000000\" font-family=\"Times,serif\" font-size=\"14.00\" text-anchor=\"middle\" x=\"103\" y=\"-598.8\">word_embedding: Embedding</text>\n",
       "</g>\n",
       "<!-- 140682843641728&#45;&gt;140682843711640 -->\n",
       "<g class=\"edge\" id=\"edge1\">\n",
       "<title>140682843641728-&gt;140682843711640</title>\n",
       "<path d=\"M103,-657.4551C103,-649.3828 103,-639.6764 103,-630.6817\" fill=\"none\" stroke=\"#000000\"/>\n",
       "<polygon fill=\"#000000\" points=\"106.5001,-630.5903 103,-620.5904 99.5001,-630.5904 106.5001,-630.5903\" stroke=\"#000000\"/>\n",
       "</g>\n",
       "<!-- 140682814952336 -->\n",
       "<g class=\"node\" id=\"node3\">\n",
       "<title>140682814952336</title>\n",
       "<polygon fill=\"none\" points=\"36.5,-511.5 36.5,-547.5 169.5,-547.5 169.5,-511.5 36.5,-511.5\" stroke=\"#000000\"/>\n",
       "<text fill=\"#000000\" font-family=\"Times,serif\" font-size=\"14.00\" text-anchor=\"middle\" x=\"103\" y=\"-525.8\">conv1d_2: Conv1D</text>\n",
       "</g>\n",
       "<!-- 140682843711640&#45;&gt;140682814952336 -->\n",
       "<g class=\"edge\" id=\"edge2\">\n",
       "<title>140682843711640-&gt;140682814952336</title>\n",
       "<path d=\"M103,-584.4551C103,-576.3828 103,-566.6764 103,-557.6817\" fill=\"none\" stroke=\"#000000\"/>\n",
       "<polygon fill=\"#000000\" points=\"106.5001,-557.5903 103,-547.5904 99.5001,-557.5904 106.5001,-557.5903\" stroke=\"#000000\"/>\n",
       "</g>\n",
       "<!-- 140682834130816 -->\n",
       "<g class=\"node\" id=\"node10\">\n",
       "<title>140682834130816</title>\n",
       "<polygon fill=\"none\" points=\"0,-438.5 0,-474.5 206,-474.5 206,-438.5 0,-438.5\" stroke=\"#000000\"/>\n",
       "<text fill=\"#000000\" font-family=\"Times,serif\" font-size=\"14.00\" text-anchor=\"middle\" x=\"103\" y=\"-452.8\">max_pooling1d: MaxPooling1D</text>\n",
       "</g>\n",
       "<!-- 140682814952336&#45;&gt;140682834130816 -->\n",
       "<g class=\"edge\" id=\"edge3\">\n",
       "<title>140682814952336-&gt;140682834130816</title>\n",
       "<path d=\"M103,-511.4551C103,-503.3828 103,-493.6764 103,-484.6817\" fill=\"none\" stroke=\"#000000\"/>\n",
       "<polygon fill=\"#000000\" points=\"106.5001,-484.5903 103,-474.5904 99.5001,-484.5904 106.5001,-484.5903\" stroke=\"#000000\"/>\n",
       "</g>\n",
       "<!-- 140683586171176 -->\n",
       "<g class=\"node\" id=\"node4\">\n",
       "<title>140683586171176</title>\n",
       "<polygon fill=\"none\" points=\"276,-438.5 276,-474.5 404,-474.5 404,-438.5 276,-438.5\" stroke=\"#000000\"/>\n",
       "<text fill=\"#000000\" font-family=\"Times,serif\" font-size=\"14.00\" text-anchor=\"middle\" x=\"340\" y=\"-452.8\">Color1: InputLayer</text>\n",
       "</g>\n",
       "<!-- 140683023130016 -->\n",
       "<g class=\"node\" id=\"node11\">\n",
       "<title>140683023130016</title>\n",
       "<polygon fill=\"none\" points=\"262,-365.5 262,-401.5 418,-401.5 418,-365.5 262,-365.5\" stroke=\"#000000\"/>\n",
       "<text fill=\"#000000\" font-family=\"Times,serif\" font-size=\"14.00\" text-anchor=\"middle\" x=\"340\" y=\"-379.8\">embedding: Embedding</text>\n",
       "</g>\n",
       "<!-- 140683586171176&#45;&gt;140683023130016 -->\n",
       "<g class=\"edge\" id=\"edge4\">\n",
       "<title>140683586171176-&gt;140683023130016</title>\n",
       "<path d=\"M340,-438.4551C340,-430.3828 340,-420.6764 340,-411.6817\" fill=\"none\" stroke=\"#000000\"/>\n",
       "<polygon fill=\"#000000\" points=\"343.5001,-411.5903 340,-401.5904 336.5001,-411.5904 343.5001,-411.5903\" stroke=\"#000000\"/>\n",
       "</g>\n",
       "<!-- 140682988213864 -->\n",
       "<g class=\"node\" id=\"node5\">\n",
       "<title>140682988213864</title>\n",
       "<polygon fill=\"none\" points=\"567,-438.5 567,-474.5 695,-474.5 695,-438.5 567,-438.5\" stroke=\"#000000\"/>\n",
       "<text fill=\"#000000\" font-family=\"Times,serif\" font-size=\"14.00\" text-anchor=\"middle\" x=\"631\" y=\"-452.8\">Color2: InputLayer</text>\n",
       "</g>\n",
       "<!-- 140682989357824 -->\n",
       "<g class=\"node\" id=\"node12\">\n",
       "<title>140682989357824</title>\n",
       "<polygon fill=\"none\" points=\"545.5,-365.5 545.5,-401.5 716.5,-401.5 716.5,-365.5 545.5,-365.5\" stroke=\"#000000\"/>\n",
       "<text fill=\"#000000\" font-family=\"Times,serif\" font-size=\"14.00\" text-anchor=\"middle\" x=\"631\" y=\"-379.8\">embedding_1: Embedding</text>\n",
       "</g>\n",
       "<!-- 140682988213864&#45;&gt;140682989357824 -->\n",
       "<g class=\"edge\" id=\"edge5\">\n",
       "<title>140682988213864-&gt;140682989357824</title>\n",
       "<path d=\"M631,-438.4551C631,-430.3828 631,-420.6764 631,-411.6817\" fill=\"none\" stroke=\"#000000\"/>\n",
       "<polygon fill=\"#000000\" points=\"634.5001,-411.5903 631,-401.5904 627.5001,-411.5904 634.5001,-411.5903\" stroke=\"#000000\"/>\n",
       "</g>\n",
       "<!-- 140682843834352 -->\n",
       "<g class=\"node\" id=\"node6\">\n",
       "<title>140682843834352</title>\n",
       "<polygon fill=\"none\" points=\"865,-438.5 865,-474.5 993,-474.5 993,-438.5 865,-438.5\" stroke=\"#000000\"/>\n",
       "<text fill=\"#000000\" font-family=\"Times,serif\" font-size=\"14.00\" text-anchor=\"middle\" x=\"929\" y=\"-452.8\">Color3: InputLayer</text>\n",
       "</g>\n",
       "<!-- 140682843833568 -->\n",
       "<g class=\"node\" id=\"node13\">\n",
       "<title>140682843833568</title>\n",
       "<polygon fill=\"none\" points=\"843.5,-365.5 843.5,-401.5 1014.5,-401.5 1014.5,-365.5 843.5,-365.5\" stroke=\"#000000\"/>\n",
       "<text fill=\"#000000\" font-family=\"Times,serif\" font-size=\"14.00\" text-anchor=\"middle\" x=\"929\" y=\"-379.8\">embedding_2: Embedding</text>\n",
       "</g>\n",
       "<!-- 140682843834352&#45;&gt;140682843833568 -->\n",
       "<g class=\"edge\" id=\"edge6\">\n",
       "<title>140682843834352-&gt;140682843833568</title>\n",
       "<path d=\"M929,-438.4551C929,-430.3828 929,-420.6764 929,-411.6817\" fill=\"none\" stroke=\"#000000\"/>\n",
       "<polygon fill=\"#000000\" points=\"932.5001,-411.5903 929,-401.5904 925.5001,-411.5904 932.5001,-411.5903\" stroke=\"#000000\"/>\n",
       "</g>\n",
       "<!-- 140682843916440 -->\n",
       "<g class=\"node\" id=\"node7\">\n",
       "<title>140682843916440</title>\n",
       "<polygon fill=\"none\" points=\"1162.5,-438.5 1162.5,-474.5 1291.5,-474.5 1291.5,-438.5 1162.5,-438.5\" stroke=\"#000000\"/>\n",
       "<text fill=\"#000000\" font-family=\"Times,serif\" font-size=\"14.00\" text-anchor=\"middle\" x=\"1227\" y=\"-452.8\">Breed1: InputLayer</text>\n",
       "</g>\n",
       "<!-- 140682843915600 -->\n",
       "<g class=\"node\" id=\"node14\">\n",
       "<title>140682843915600</title>\n",
       "<polygon fill=\"none\" points=\"1141.5,-365.5 1141.5,-401.5 1312.5,-401.5 1312.5,-365.5 1141.5,-365.5\" stroke=\"#000000\"/>\n",
       "<text fill=\"#000000\" font-family=\"Times,serif\" font-size=\"14.00\" text-anchor=\"middle\" x=\"1227\" y=\"-379.8\">embedding_3: Embedding</text>\n",
       "</g>\n",
       "<!-- 140682843916440&#45;&gt;140682843915600 -->\n",
       "<g class=\"edge\" id=\"edge7\">\n",
       "<title>140682843916440-&gt;140682843915600</title>\n",
       "<path d=\"M1227,-438.4551C1227,-430.3828 1227,-420.6764 1227,-411.6817\" fill=\"none\" stroke=\"#000000\"/>\n",
       "<polygon fill=\"#000000\" points=\"1230.5001,-411.5903 1227,-401.5904 1223.5001,-411.5904 1230.5001,-411.5903\" stroke=\"#000000\"/>\n",
       "</g>\n",
       "<!-- 140682843990336 -->\n",
       "<g class=\"node\" id=\"node8\">\n",
       "<title>140682843990336</title>\n",
       "<polygon fill=\"none\" points=\"1460.5,-438.5 1460.5,-474.5 1589.5,-474.5 1589.5,-438.5 1460.5,-438.5\" stroke=\"#000000\"/>\n",
       "<text fill=\"#000000\" font-family=\"Times,serif\" font-size=\"14.00\" text-anchor=\"middle\" x=\"1525\" y=\"-452.8\">Breed2: InputLayer</text>\n",
       "</g>\n",
       "<!-- 140682843989496 -->\n",
       "<g class=\"node\" id=\"node15\">\n",
       "<title>140682843989496</title>\n",
       "<polygon fill=\"none\" points=\"1439.5,-365.5 1439.5,-401.5 1610.5,-401.5 1610.5,-365.5 1439.5,-365.5\" stroke=\"#000000\"/>\n",
       "<text fill=\"#000000\" font-family=\"Times,serif\" font-size=\"14.00\" text-anchor=\"middle\" x=\"1525\" y=\"-379.8\">embedding_4: Embedding</text>\n",
       "</g>\n",
       "<!-- 140682843990336&#45;&gt;140682843989496 -->\n",
       "<g class=\"edge\" id=\"edge8\">\n",
       "<title>140682843990336-&gt;140682843989496</title>\n",
       "<path d=\"M1525,-438.4551C1525,-430.3828 1525,-420.6764 1525,-411.6817\" fill=\"none\" stroke=\"#000000\"/>\n",
       "<polygon fill=\"#000000\" points=\"1528.5001,-411.5903 1525,-401.5904 1521.5001,-411.5904 1528.5001,-411.5903\" stroke=\"#000000\"/>\n",
       "</g>\n",
       "<!-- 140682844060136 -->\n",
       "<g class=\"node\" id=\"node9\">\n",
       "<title>140682844060136</title>\n",
       "<polygon fill=\"none\" points=\"1765,-438.5 1765,-474.5 1881,-474.5 1881,-438.5 1765,-438.5\" stroke=\"#000000\"/>\n",
       "<text fill=\"#000000\" font-family=\"Times,serif\" font-size=\"14.00\" text-anchor=\"middle\" x=\"1823\" y=\"-452.8\">State: InputLayer</text>\n",
       "</g>\n",
       "<!-- 140682844059296 -->\n",
       "<g class=\"node\" id=\"node16\">\n",
       "<title>140682844059296</title>\n",
       "<polygon fill=\"none\" points=\"1737.5,-365.5 1737.5,-401.5 1908.5,-401.5 1908.5,-365.5 1737.5,-365.5\" stroke=\"#000000\"/>\n",
       "<text fill=\"#000000\" font-family=\"Times,serif\" font-size=\"14.00\" text-anchor=\"middle\" x=\"1823\" y=\"-379.8\">embedding_5: Embedding</text>\n",
       "</g>\n",
       "<!-- 140682844060136&#45;&gt;140682844059296 -->\n",
       "<g class=\"edge\" id=\"edge9\">\n",
       "<title>140682844060136-&gt;140682844059296</title>\n",
       "<path d=\"M1823,-438.4551C1823,-430.3828 1823,-420.6764 1823,-411.6817\" fill=\"none\" stroke=\"#000000\"/>\n",
       "<polygon fill=\"#000000\" points=\"1826.5001,-411.5903 1823,-401.5904 1819.5001,-411.5904 1826.5001,-411.5903\" stroke=\"#000000\"/>\n",
       "</g>\n",
       "<!-- 140682841128688 -->\n",
       "<g class=\"node\" id=\"node17\">\n",
       "<title>140682841128688</title>\n",
       "<polygon fill=\"none\" points=\"46.5,-365.5 46.5,-401.5 159.5,-401.5 159.5,-365.5 46.5,-365.5\" stroke=\"#000000\"/>\n",
       "<text fill=\"#000000\" font-family=\"Times,serif\" font-size=\"14.00\" text-anchor=\"middle\" x=\"103\" y=\"-379.8\">flatten_3: Flatten</text>\n",
       "</g>\n",
       "<!-- 140682834130816&#45;&gt;140682841128688 -->\n",
       "<g class=\"edge\" id=\"edge10\">\n",
       "<title>140682834130816-&gt;140682841128688</title>\n",
       "<path d=\"M103,-438.4551C103,-430.3828 103,-420.6764 103,-411.6817\" fill=\"none\" stroke=\"#000000\"/>\n",
       "<polygon fill=\"#000000\" points=\"106.5001,-411.5903 103,-401.5904 99.5001,-411.5904 106.5001,-411.5903\" stroke=\"#000000\"/>\n",
       "</g>\n",
       "<!-- 140682841669136 -->\n",
       "<g class=\"node\" id=\"node18\">\n",
       "<title>140682841669136</title>\n",
       "<polygon fill=\"none\" points=\"207.5,-292.5 207.5,-328.5 472.5,-328.5 472.5,-292.5 207.5,-292.5\" stroke=\"#000000\"/>\n",
       "<text fill=\"#000000\" font-family=\"Times,serif\" font-size=\"14.00\" text-anchor=\"middle\" x=\"340\" y=\"-306.8\">tf_op_layer_Squeeze: TensorFlowOpLayer</text>\n",
       "</g>\n",
       "<!-- 140683023130016&#45;&gt;140682841669136 -->\n",
       "<g class=\"edge\" id=\"edge11\">\n",
       "<title>140683023130016-&gt;140682841669136</title>\n",
       "<path d=\"M340,-365.4551C340,-357.3828 340,-347.6764 340,-338.6817\" fill=\"none\" stroke=\"#000000\"/>\n",
       "<polygon fill=\"#000000\" points=\"343.5001,-338.5903 340,-328.5904 336.5001,-338.5904 343.5001,-338.5903\" stroke=\"#000000\"/>\n",
       "</g>\n",
       "<!-- 140682841669416 -->\n",
       "<g class=\"node\" id=\"node19\">\n",
       "<title>140682841669416</title>\n",
       "<polygon fill=\"none\" points=\"491,-292.5 491,-328.5 771,-328.5 771,-292.5 491,-292.5\" stroke=\"#000000\"/>\n",
       "<text fill=\"#000000\" font-family=\"Times,serif\" font-size=\"14.00\" text-anchor=\"middle\" x=\"631\" y=\"-306.8\">tf_op_layer_Squeeze_1: TensorFlowOpLayer</text>\n",
       "</g>\n",
       "<!-- 140682989357824&#45;&gt;140682841669416 -->\n",
       "<g class=\"edge\" id=\"edge12\">\n",
       "<title>140682989357824-&gt;140682841669416</title>\n",
       "<path d=\"M631,-365.4551C631,-357.3828 631,-347.6764 631,-338.6817\" fill=\"none\" stroke=\"#000000\"/>\n",
       "<polygon fill=\"#000000\" points=\"634.5001,-338.5903 631,-328.5904 627.5001,-338.5904 634.5001,-338.5903\" stroke=\"#000000\"/>\n",
       "</g>\n",
       "<!-- 140682841219648 -->\n",
       "<g class=\"node\" id=\"node20\">\n",
       "<title>140682841219648</title>\n",
       "<polygon fill=\"none\" points=\"789,-292.5 789,-328.5 1069,-328.5 1069,-292.5 789,-292.5\" stroke=\"#000000\"/>\n",
       "<text fill=\"#000000\" font-family=\"Times,serif\" font-size=\"14.00\" text-anchor=\"middle\" x=\"929\" y=\"-306.8\">tf_op_layer_Squeeze_2: TensorFlowOpLayer</text>\n",
       "</g>\n",
       "<!-- 140682843833568&#45;&gt;140682841219648 -->\n",
       "<g class=\"edge\" id=\"edge13\">\n",
       "<title>140682843833568-&gt;140682841219648</title>\n",
       "<path d=\"M929,-365.4551C929,-357.3828 929,-347.6764 929,-338.6817\" fill=\"none\" stroke=\"#000000\"/>\n",
       "<polygon fill=\"#000000\" points=\"932.5001,-338.5903 929,-328.5904 925.5001,-338.5904 932.5001,-338.5903\" stroke=\"#000000\"/>\n",
       "</g>\n",
       "<!-- 140682841220264 -->\n",
       "<g class=\"node\" id=\"node21\">\n",
       "<title>140682841220264</title>\n",
       "<polygon fill=\"none\" points=\"1087,-292.5 1087,-328.5 1367,-328.5 1367,-292.5 1087,-292.5\" stroke=\"#000000\"/>\n",
       "<text fill=\"#000000\" font-family=\"Times,serif\" font-size=\"14.00\" text-anchor=\"middle\" x=\"1227\" y=\"-306.8\">tf_op_layer_Squeeze_3: TensorFlowOpLayer</text>\n",
       "</g>\n",
       "<!-- 140682843915600&#45;&gt;140682841220264 -->\n",
       "<g class=\"edge\" id=\"edge14\">\n",
       "<title>140682843915600-&gt;140682841220264</title>\n",
       "<path d=\"M1227,-365.4551C1227,-357.3828 1227,-347.6764 1227,-338.6817\" fill=\"none\" stroke=\"#000000\"/>\n",
       "<polygon fill=\"#000000\" points=\"1230.5001,-338.5903 1227,-328.5904 1223.5001,-338.5904 1230.5001,-338.5903\" stroke=\"#000000\"/>\n",
       "</g>\n",
       "<!-- 140682841220880 -->\n",
       "<g class=\"node\" id=\"node22\">\n",
       "<title>140682841220880</title>\n",
       "<polygon fill=\"none\" points=\"1385,-292.5 1385,-328.5 1665,-328.5 1665,-292.5 1385,-292.5\" stroke=\"#000000\"/>\n",
       "<text fill=\"#000000\" font-family=\"Times,serif\" font-size=\"14.00\" text-anchor=\"middle\" x=\"1525\" y=\"-306.8\">tf_op_layer_Squeeze_4: TensorFlowOpLayer</text>\n",
       "</g>\n",
       "<!-- 140682843989496&#45;&gt;140682841220880 -->\n",
       "<g class=\"edge\" id=\"edge15\">\n",
       "<title>140682843989496-&gt;140682841220880</title>\n",
       "<path d=\"M1525,-365.4551C1525,-357.3828 1525,-347.6764 1525,-338.6817\" fill=\"none\" stroke=\"#000000\"/>\n",
       "<polygon fill=\"#000000\" points=\"1528.5001,-338.5903 1525,-328.5904 1521.5001,-338.5904 1528.5001,-338.5903\" stroke=\"#000000\"/>\n",
       "</g>\n",
       "<!-- 140682841221496 -->\n",
       "<g class=\"node\" id=\"node23\">\n",
       "<title>140682841221496</title>\n",
       "<polygon fill=\"none\" points=\"1683,-292.5 1683,-328.5 1963,-328.5 1963,-292.5 1683,-292.5\" stroke=\"#000000\"/>\n",
       "<text fill=\"#000000\" font-family=\"Times,serif\" font-size=\"14.00\" text-anchor=\"middle\" x=\"1823\" y=\"-306.8\">tf_op_layer_Squeeze_5: TensorFlowOpLayer</text>\n",
       "</g>\n",
       "<!-- 140682844059296&#45;&gt;140682841221496 -->\n",
       "<g class=\"edge\" id=\"edge16\">\n",
       "<title>140682844059296-&gt;140682841221496</title>\n",
       "<path d=\"M1823,-365.4551C1823,-357.3828 1823,-347.6764 1823,-338.6817\" fill=\"none\" stroke=\"#000000\"/>\n",
       "<polygon fill=\"#000000\" points=\"1826.5001,-338.5903 1823,-328.5904 1819.5001,-338.5904 1826.5001,-338.5903\" stroke=\"#000000\"/>\n",
       "</g>\n",
       "<!-- 140682814954520 -->\n",
       "<g class=\"node\" id=\"node24\">\n",
       "<title>140682814954520</title>\n",
       "<polygon fill=\"none\" points=\"16.5,-292.5 16.5,-328.5 189.5,-328.5 189.5,-292.5 16.5,-292.5\" stroke=\"#000000\"/>\n",
       "<text fill=\"#000000\" font-family=\"Times,serif\" font-size=\"14.00\" text-anchor=\"middle\" x=\"103\" y=\"-306.8\">description_features: Dense</text>\n",
       "</g>\n",
       "<!-- 140682841128688&#45;&gt;140682814954520 -->\n",
       "<g class=\"edge\" id=\"edge17\">\n",
       "<title>140682841128688-&gt;140682814954520</title>\n",
       "<path d=\"M103,-365.4551C103,-357.3828 103,-347.6764 103,-338.6817\" fill=\"none\" stroke=\"#000000\"/>\n",
       "<polygon fill=\"#000000\" points=\"106.5001,-338.5903 103,-328.5904 99.5001,-338.5904 106.5001,-338.5903\" stroke=\"#000000\"/>\n",
       "</g>\n",
       "<!-- 140682814258032 -->\n",
       "<g class=\"node\" id=\"node26\">\n",
       "<title>140682814258032</title>\n",
       "<polygon fill=\"none\" points=\"996,-219.5 996,-255.5 1160,-255.5 1160,-219.5 996,-219.5\" stroke=\"#000000\"/>\n",
       "<text fill=\"#000000\" font-family=\"Times,serif\" font-size=\"14.00\" text-anchor=\"middle\" x=\"1078\" y=\"-233.8\">feature_map: Concatenate</text>\n",
       "</g>\n",
       "<!-- 140682841669136&#45;&gt;140682814258032 -->\n",
       "<g class=\"edge\" id=\"edge18\">\n",
       "<title>140682841669136-&gt;140682814258032</title>\n",
       "<path d=\"M472.634,-293.0571C475.7856,-292.6953 478.9113,-292.3423 482,-292 660.116,-272.261 868.7564,-254.3815 985.9438,-244.8156\" fill=\"none\" stroke=\"#000000\"/>\n",
       "<polygon fill=\"#000000\" points=\"986.2713,-248.3006 995.9543,-244.0005 985.7032,-241.3237 986.2713,-248.3006\" stroke=\"#000000\"/>\n",
       "</g>\n",
       "<!-- 140682841669416&#45;&gt;140682814258032 -->\n",
       "<g class=\"edge\" id=\"edge19\">\n",
       "<title>140682841669416-&gt;140682814258032</title>\n",
       "<path d=\"M741.4944,-292.4551C816.5279,-280.2013 914.6212,-264.1815 985.522,-252.6027\" fill=\"none\" stroke=\"#000000\"/>\n",
       "<polygon fill=\"#000000\" points=\"986.4743,-255.9936 995.7794,-250.9275 985.346,-249.0851 986.4743,-255.9936\" stroke=\"#000000\"/>\n",
       "</g>\n",
       "<!-- 140682841219648&#45;&gt;140682814258032 -->\n",
       "<g class=\"edge\" id=\"edge20\">\n",
       "<title>140682841219648-&gt;140682814258032</title>\n",
       "<path d=\"M965.8315,-292.4551C985.7999,-282.6719 1010.6678,-270.4883 1031.9108,-260.0806\" fill=\"none\" stroke=\"#000000\"/>\n",
       "<polygon fill=\"#000000\" points=\"1033.6356,-263.1331 1041.0758,-255.5904 1030.5558,-256.847 1033.6356,-263.1331\" stroke=\"#000000\"/>\n",
       "</g>\n",
       "<!-- 140682841220264&#45;&gt;140682814258032 -->\n",
       "<g class=\"edge\" id=\"edge21\">\n",
       "<title>140682841220264-&gt;140682814258032</title>\n",
       "<path d=\"M1190.1685,-292.4551C1170.2001,-282.6719 1145.3322,-270.4883 1124.0892,-260.0806\" fill=\"none\" stroke=\"#000000\"/>\n",
       "<polygon fill=\"#000000\" points=\"1125.4442,-256.847 1114.9242,-255.5904 1122.3644,-263.1331 1125.4442,-256.847\" stroke=\"#000000\"/>\n",
       "</g>\n",
       "<!-- 140682841220880&#45;&gt;140682814258032 -->\n",
       "<g class=\"edge\" id=\"edge22\">\n",
       "<title>140682841220880-&gt;140682814258032</title>\n",
       "<path d=\"M1414.5056,-292.4551C1339.4721,-280.2013 1241.3788,-264.1815 1170.478,-252.6027\" fill=\"none\" stroke=\"#000000\"/>\n",
       "<polygon fill=\"#000000\" points=\"1170.654,-249.0851 1160.2206,-250.9275 1169.5257,-255.9936 1170.654,-249.0851\" stroke=\"#000000\"/>\n",
       "</g>\n",
       "<!-- 140682841221496&#45;&gt;140682814258032 -->\n",
       "<g class=\"edge\" id=\"edge23\">\n",
       "<title>140682841221496-&gt;140682814258032</title>\n",
       "<path d=\"M1682.635,-292.9438C1679.7318,-292.6222 1676.8508,-292.3072 1674,-292 1495.8254,-272.7975 1287.2054,-254.7316 1170.0375,-244.9869\" fill=\"none\" stroke=\"#000000\"/>\n",
       "<polygon fill=\"#000000\" points=\"1170.284,-241.4954 1160.0287,-244.1562 1169.7049,-248.4714 1170.284,-241.4954\" stroke=\"#000000\"/>\n",
       "</g>\n",
       "<!-- 140682814954520&#45;&gt;140682814258032 -->\n",
       "<g class=\"edge\" id=\"edge24\">\n",
       "<title>140682814954520-&gt;140682814258032</title>\n",
       "<path d=\"M189.6458,-293.1434C192.4596,-292.7344 195.2499,-292.3514 198,-292 483.6332,-255.5018 824.6697,-243.2148 985.4441,-239.265\" fill=\"none\" stroke=\"#000000\"/>\n",
       "<polygon fill=\"#000000\" points=\"985.8579,-242.7561 995.7709,-239.0167 985.6896,-235.7581 985.8579,-242.7561\" stroke=\"#000000\"/>\n",
       "</g>\n",
       "<!-- 140682988224408 -->\n",
       "<g class=\"node\" id=\"node25\">\n",
       "<title>140682988224408</title>\n",
       "<polygon fill=\"none\" points=\"1981,-292.5 1981,-328.5 2151,-328.5 2151,-292.5 1981,-292.5\" stroke=\"#000000\"/>\n",
       "<text fill=\"#000000\" font-family=\"Times,serif\" font-size=\"14.00\" text-anchor=\"middle\" x=\"2066\" y=\"-306.8\">direct_features: InputLayer</text>\n",
       "</g>\n",
       "<!-- 140682988224408&#45;&gt;140682814258032 -->\n",
       "<g class=\"edge\" id=\"edge25\">\n",
       "<title>140682988224408-&gt;140682814258032</title>\n",
       "<path d=\"M1980.7751,-293.212C1977.8186,-292.7766 1974.887,-292.3704 1972,-292 1680.9157,-254.653 1333.1264,-242.7515 1170.4487,-239.0755\" fill=\"none\" stroke=\"#000000\"/>\n",
       "<polygon fill=\"#000000\" points=\"1170.0785,-235.5665 1160.0037,-238.8451 1169.924,-242.5648 1170.0785,-235.5665\" stroke=\"#000000\"/>\n",
       "</g>\n",
       "<!-- 140682833053232 -->\n",
       "<g class=\"node\" id=\"node27\">\n",
       "<title>140682833053232</title>\n",
       "<polygon fill=\"none\" points=\"1024.5,-146.5 1024.5,-182.5 1131.5,-182.5 1131.5,-146.5 1024.5,-146.5\" stroke=\"#000000\"/>\n",
       "<text fill=\"#000000\" font-family=\"Times,serif\" font-size=\"14.00\" text-anchor=\"middle\" x=\"1078\" y=\"-160.8\">dense_2: Dense</text>\n",
       "</g>\n",
       "<!-- 140682814258032&#45;&gt;140682833053232 -->\n",
       "<g class=\"edge\" id=\"edge26\">\n",
       "<title>140682814258032-&gt;140682833053232</title>\n",
       "<path d=\"M1078,-219.4551C1078,-211.3828 1078,-201.6764 1078,-192.6817\" fill=\"none\" stroke=\"#000000\"/>\n",
       "<polygon fill=\"#000000\" points=\"1081.5001,-192.5903 1078,-182.5904 1074.5001,-192.5904 1081.5001,-192.5903\" stroke=\"#000000\"/>\n",
       "</g>\n",
       "<!-- 140682833052448 -->\n",
       "<g class=\"node\" id=\"node28\">\n",
       "<title>140682833052448</title>\n",
       "<polygon fill=\"none\" points=\"1024.5,-73.5 1024.5,-109.5 1131.5,-109.5 1131.5,-73.5 1024.5,-73.5\" stroke=\"#000000\"/>\n",
       "<text fill=\"#000000\" font-family=\"Times,serif\" font-size=\"14.00\" text-anchor=\"middle\" x=\"1078\" y=\"-87.8\">dense_3: Dense</text>\n",
       "</g>\n",
       "<!-- 140682833053232&#45;&gt;140682833052448 -->\n",
       "<g class=\"edge\" id=\"edge27\">\n",
       "<title>140682833053232-&gt;140682833052448</title>\n",
       "<path d=\"M1078,-146.4551C1078,-138.3828 1078,-128.6764 1078,-119.6817\" fill=\"none\" stroke=\"#000000\"/>\n",
       "<polygon fill=\"#000000\" points=\"1081.5001,-119.5903 1078,-109.5904 1074.5001,-119.5904 1081.5001,-119.5903\" stroke=\"#000000\"/>\n",
       "</g>\n",
       "<!-- 140682814259040 -->\n",
       "<g class=\"node\" id=\"node29\">\n",
       "<title>140682814259040</title>\n",
       "<polygon fill=\"none\" points=\"1029.5,-.5 1029.5,-36.5 1126.5,-36.5 1126.5,-.5 1029.5,-.5\" stroke=\"#000000\"/>\n",
       "<text fill=\"#000000\" font-family=\"Times,serif\" font-size=\"14.00\" text-anchor=\"middle\" x=\"1078\" y=\"-14.8\">output: Dense</text>\n",
       "</g>\n",
       "<!-- 140682833052448&#45;&gt;140682814259040 -->\n",
       "<g class=\"edge\" id=\"edge28\">\n",
       "<title>140682833052448-&gt;140682814259040</title>\n",
       "<path d=\"M1078,-73.4551C1078,-65.3828 1078,-55.6764 1078,-46.6817\" fill=\"none\" stroke=\"#000000\"/>\n",
       "<polygon fill=\"#000000\" points=\"1081.5001,-46.5903 1078,-36.5904 1074.5001,-46.5904 1081.5001,-46.5903\" stroke=\"#000000\"/>\n",
       "</g>\n",
       "</g>\n",
       "</svg>"
      ],
      "text/plain": [
       "<IPython.core.display.SVG object>"
      ]
     },
     "execution_count": 35,
     "metadata": {
      "tags": []
     },
     "output_type": "execute_result"
    }
   ],
   "source": [
    "SVG(tf.keras.utils.model_to_dot(model1, dpi=50).create(prog='dot', format='svg'))"
   ]
  },
  {
   "cell_type": "code",
   "execution_count": 36,
   "metadata": {
    "colab": {
     "base_uri": "https://localhost:8080/",
     "height": 1000
    },
    "colab_type": "code",
    "executionInfo": {
     "elapsed": 1523,
     "status": "ok",
     "timestamp": 1573143753803,
     "user": {
      "displayName": "Javier Alvarez",
      "photoUrl": "https://lh3.googleusercontent.com/a-/AAuE7mCpj6NcAdMItepXkUoq108X2wyUwQIMkXfM7KclgAg=s64",
      "userId": "16571654116830885687"
     },
     "user_tz": 180
    },
    "id": "1eBkFU4LL_vG",
    "outputId": "201234a4-3ed0-4c2b-9a91-99bad85e5670"
   },
   "outputs": [
    {
     "name": "stdout",
     "output_type": "stream",
     "text": [
      "Model: \"amazing_model\"\n",
      "__________________________________________________________________________________________________\n",
      "Layer (type)                    Output Shape         Param #     Connected to                     \n",
      "==================================================================================================\n",
      "description (InputLayer)        [(None, 55)]         0                                            \n",
      "__________________________________________________________________________________________________\n",
      "word_embedding (Embedding)      (None, 55, 100)      1000200     description[0][0]                \n",
      "__________________________________________________________________________________________________\n",
      "conv1d_2 (Conv1D)               (None, 51, 64)       32064       word_embedding[0][0]             \n",
      "__________________________________________________________________________________________________\n",
      "Color1 (InputLayer)             [(None, 1)]          0                                            \n",
      "__________________________________________________________________________________________________\n",
      "Color2 (InputLayer)             [(None, 1)]          0                                            \n",
      "__________________________________________________________________________________________________\n",
      "Color3 (InputLayer)             [(None, 1)]          0                                            \n",
      "__________________________________________________________________________________________________\n",
      "Breed1 (InputLayer)             [(None, 1)]          0                                            \n",
      "__________________________________________________________________________________________________\n",
      "Breed2 (InputLayer)             [(None, 1)]          0                                            \n",
      "__________________________________________________________________________________________________\n",
      "State (InputLayer)              [(None, 1)]          0                                            \n",
      "__________________________________________________________________________________________________\n",
      "max_pooling1d (MaxPooling1D)    (None, 12, 64)       0           conv1d_2[0][0]                   \n",
      "__________________________________________________________________________________________________\n",
      "embedding (Embedding)           (None, 1, 2)         16          Color1[0][0]                     \n",
      "__________________________________________________________________________________________________\n",
      "embedding_1 (Embedding)         (None, 1, 2)         16          Color2[0][0]                     \n",
      "__________________________________________________________________________________________________\n",
      "embedding_2 (Embedding)         (None, 1, 2)         16          Color3[0][0]                     \n",
      "__________________________________________________________________________________________________\n",
      "embedding_3 (Embedding)         (None, 1, 77)        23716       Breed1[0][0]                     \n",
      "__________________________________________________________________________________________________\n",
      "embedding_4 (Embedding)         (None, 1, 77)        23716       Breed2[0][0]                     \n",
      "__________________________________________________________________________________________________\n",
      "embedding_5 (Embedding)         (None, 1, 10354)     428821264   State[0][0]                      \n",
      "__________________________________________________________________________________________________\n",
      "flatten_3 (Flatten)             (None, 768)          0           max_pooling1d[0][0]              \n",
      "__________________________________________________________________________________________________\n",
      "tf_op_layer_Squeeze (TensorFlow [(None, 2)]          0           embedding[0][0]                  \n",
      "__________________________________________________________________________________________________\n",
      "tf_op_layer_Squeeze_1 (TensorFl [(None, 2)]          0           embedding_1[0][0]                \n",
      "__________________________________________________________________________________________________\n",
      "tf_op_layer_Squeeze_2 (TensorFl [(None, 2)]          0           embedding_2[0][0]                \n",
      "__________________________________________________________________________________________________\n",
      "tf_op_layer_Squeeze_3 (TensorFl [(None, 77)]         0           embedding_3[0][0]                \n",
      "__________________________________________________________________________________________________\n",
      "tf_op_layer_Squeeze_4 (TensorFl [(None, 77)]         0           embedding_4[0][0]                \n",
      "__________________________________________________________________________________________________\n",
      "tf_op_layer_Squeeze_5 (TensorFl [(None, 10354)]      0           embedding_5[0][0]                \n",
      "__________________________________________________________________________________________________\n",
      "description_features (Dense)    (None, 512)          393728      flatten_3[0][0]                  \n",
      "__________________________________________________________________________________________________\n",
      "direct_features (InputLayer)    [(None, 24)]         0                                            \n",
      "__________________________________________________________________________________________________\n",
      "feature_map (Concatenate)       (None, 11050)        0           tf_op_layer_Squeeze[0][0]        \n",
      "                                                                 tf_op_layer_Squeeze_1[0][0]      \n",
      "                                                                 tf_op_layer_Squeeze_2[0][0]      \n",
      "                                                                 tf_op_layer_Squeeze_3[0][0]      \n",
      "                                                                 tf_op_layer_Squeeze_4[0][0]      \n",
      "                                                                 tf_op_layer_Squeeze_5[0][0]      \n",
      "                                                                 description_features[0][0]       \n",
      "                                                                 direct_features[0][0]            \n",
      "__________________________________________________________________________________________________\n",
      "dense_4 (Dense)                 (None, 128)          1414528     feature_map[0][0]                \n",
      "__________________________________________________________________________________________________\n",
      "output (Dense)                  (None, 5)            645         dense_4[0][0]                    \n",
      "==================================================================================================\n",
      "Total params: 431,709,909\n",
      "Trainable params: 430,709,709\n",
      "Non-trainable params: 1,000,200\n",
      "__________________________________________________________________________________________________\n"
     ]
    }
   ],
   "source": [
    "model.compile(loss='categorical_crossentropy', \n",
    "              optimizer='nadam',\n",
    "              metrics=['accuracy'])\n",
    "model.summary()"
   ]
  },
  {
   "cell_type": "code",
   "execution_count": 37,
   "metadata": {
    "colab": {
     "base_uri": "https://localhost:8080/",
     "height": 624
    },
    "colab_type": "code",
    "executionInfo": {
     "elapsed": 2243,
     "status": "ok",
     "timestamp": 1573143756485,
     "user": {
      "displayName": "Javier Alvarez",
      "photoUrl": "https://lh3.googleusercontent.com/a-/AAuE7mCpj6NcAdMItepXkUoq108X2wyUwQIMkXfM7KclgAg=s64",
      "userId": "16571654116830885687"
     },
     "user_tz": 180
    },
    "id": "AZD5gpFYO8rk",
    "outputId": "b2165394-64d9-46c6-be31-76851aad422e"
   },
   "outputs": [
    {
     "data": {
      "image/svg+xml": [
       "<svg height=\"437pt\" viewBox=\"0.00 0.00 2159.00 629.00\" width=\"1499pt\" xmlns=\"http://www.w3.org/2000/svg\" xmlns:xlink=\"http://www.w3.org/1999/xlink\">\n",
       "<g class=\"graph\" id=\"graph0\" transform=\"scale(.6944 .6944) rotate(0) translate(4 625)\">\n",
       "<title>G</title>\n",
       "<polygon fill=\"#ffffff\" points=\"-4,4 -4,-625 2155,-625 2155,4 -4,4\" stroke=\"transparent\"/>\n",
       "<!-- 140682843641728 -->\n",
       "<g class=\"node\" id=\"node1\">\n",
       "<title>140682843641728</title>\n",
       "<polygon fill=\"none\" points=\"27.5,-584.5 27.5,-620.5 178.5,-620.5 178.5,-584.5 27.5,-584.5\" stroke=\"#000000\"/>\n",
       "<text fill=\"#000000\" font-family=\"Times,serif\" font-size=\"14.00\" text-anchor=\"middle\" x=\"103\" y=\"-598.8\">description: InputLayer</text>\n",
       "</g>\n",
       "<!-- 140682843711640 -->\n",
       "<g class=\"node\" id=\"node2\">\n",
       "<title>140682843711640</title>\n",
       "<polygon fill=\"none\" points=\"6,-511.5 6,-547.5 200,-547.5 200,-511.5 6,-511.5\" stroke=\"#000000\"/>\n",
       "<text fill=\"#000000\" font-family=\"Times,serif\" font-size=\"14.00\" text-anchor=\"middle\" x=\"103\" y=\"-525.8\">word_embedding: Embedding</text>\n",
       "</g>\n",
       "<!-- 140682843641728&#45;&gt;140682843711640 -->\n",
       "<g class=\"edge\" id=\"edge1\">\n",
       "<title>140682843641728-&gt;140682843711640</title>\n",
       "<path d=\"M103,-584.4551C103,-576.3828 103,-566.6764 103,-557.6817\" fill=\"none\" stroke=\"#000000\"/>\n",
       "<polygon fill=\"#000000\" points=\"106.5001,-557.5903 103,-547.5904 99.5001,-557.5904 106.5001,-557.5903\" stroke=\"#000000\"/>\n",
       "</g>\n",
       "<!-- 140682814952336 -->\n",
       "<g class=\"node\" id=\"node3\">\n",
       "<title>140682814952336</title>\n",
       "<polygon fill=\"none\" points=\"36.5,-438.5 36.5,-474.5 169.5,-474.5 169.5,-438.5 36.5,-438.5\" stroke=\"#000000\"/>\n",
       "<text fill=\"#000000\" font-family=\"Times,serif\" font-size=\"14.00\" text-anchor=\"middle\" x=\"103\" y=\"-452.8\">conv1d_2: Conv1D</text>\n",
       "</g>\n",
       "<!-- 140682843711640&#45;&gt;140682814952336 -->\n",
       "<g class=\"edge\" id=\"edge2\">\n",
       "<title>140682843711640-&gt;140682814952336</title>\n",
       "<path d=\"M103,-511.4551C103,-503.3828 103,-493.6764 103,-484.6817\" fill=\"none\" stroke=\"#000000\"/>\n",
       "<polygon fill=\"#000000\" points=\"106.5001,-484.5903 103,-474.5904 99.5001,-484.5904 106.5001,-484.5903\" stroke=\"#000000\"/>\n",
       "</g>\n",
       "<!-- 140682834130816 -->\n",
       "<g class=\"node\" id=\"node10\">\n",
       "<title>140682834130816</title>\n",
       "<polygon fill=\"none\" points=\"0,-365.5 0,-401.5 206,-401.5 206,-365.5 0,-365.5\" stroke=\"#000000\"/>\n",
       "<text fill=\"#000000\" font-family=\"Times,serif\" font-size=\"14.00\" text-anchor=\"middle\" x=\"103\" y=\"-379.8\">max_pooling1d: MaxPooling1D</text>\n",
       "</g>\n",
       "<!-- 140682814952336&#45;&gt;140682834130816 -->\n",
       "<g class=\"edge\" id=\"edge3\">\n",
       "<title>140682814952336-&gt;140682834130816</title>\n",
       "<path d=\"M103,-438.4551C103,-430.3828 103,-420.6764 103,-411.6817\" fill=\"none\" stroke=\"#000000\"/>\n",
       "<polygon fill=\"#000000\" points=\"106.5001,-411.5903 103,-401.5904 99.5001,-411.5904 106.5001,-411.5903\" stroke=\"#000000\"/>\n",
       "</g>\n",
       "<!-- 140683586171176 -->\n",
       "<g class=\"node\" id=\"node4\">\n",
       "<title>140683586171176</title>\n",
       "<polygon fill=\"none\" points=\"276,-365.5 276,-401.5 404,-401.5 404,-365.5 276,-365.5\" stroke=\"#000000\"/>\n",
       "<text fill=\"#000000\" font-family=\"Times,serif\" font-size=\"14.00\" text-anchor=\"middle\" x=\"340\" y=\"-379.8\">Color1: InputLayer</text>\n",
       "</g>\n",
       "<!-- 140683023130016 -->\n",
       "<g class=\"node\" id=\"node11\">\n",
       "<title>140683023130016</title>\n",
       "<polygon fill=\"none\" points=\"262,-292.5 262,-328.5 418,-328.5 418,-292.5 262,-292.5\" stroke=\"#000000\"/>\n",
       "<text fill=\"#000000\" font-family=\"Times,serif\" font-size=\"14.00\" text-anchor=\"middle\" x=\"340\" y=\"-306.8\">embedding: Embedding</text>\n",
       "</g>\n",
       "<!-- 140683586171176&#45;&gt;140683023130016 -->\n",
       "<g class=\"edge\" id=\"edge4\">\n",
       "<title>140683586171176-&gt;140683023130016</title>\n",
       "<path d=\"M340,-365.4551C340,-357.3828 340,-347.6764 340,-338.6817\" fill=\"none\" stroke=\"#000000\"/>\n",
       "<polygon fill=\"#000000\" points=\"343.5001,-338.5903 340,-328.5904 336.5001,-338.5904 343.5001,-338.5903\" stroke=\"#000000\"/>\n",
       "</g>\n",
       "<!-- 140682988213864 -->\n",
       "<g class=\"node\" id=\"node5\">\n",
       "<title>140682988213864</title>\n",
       "<polygon fill=\"none\" points=\"567,-365.5 567,-401.5 695,-401.5 695,-365.5 567,-365.5\" stroke=\"#000000\"/>\n",
       "<text fill=\"#000000\" font-family=\"Times,serif\" font-size=\"14.00\" text-anchor=\"middle\" x=\"631\" y=\"-379.8\">Color2: InputLayer</text>\n",
       "</g>\n",
       "<!-- 140682989357824 -->\n",
       "<g class=\"node\" id=\"node12\">\n",
       "<title>140682989357824</title>\n",
       "<polygon fill=\"none\" points=\"545.5,-292.5 545.5,-328.5 716.5,-328.5 716.5,-292.5 545.5,-292.5\" stroke=\"#000000\"/>\n",
       "<text fill=\"#000000\" font-family=\"Times,serif\" font-size=\"14.00\" text-anchor=\"middle\" x=\"631\" y=\"-306.8\">embedding_1: Embedding</text>\n",
       "</g>\n",
       "<!-- 140682988213864&#45;&gt;140682989357824 -->\n",
       "<g class=\"edge\" id=\"edge5\">\n",
       "<title>140682988213864-&gt;140682989357824</title>\n",
       "<path d=\"M631,-365.4551C631,-357.3828 631,-347.6764 631,-338.6817\" fill=\"none\" stroke=\"#000000\"/>\n",
       "<polygon fill=\"#000000\" points=\"634.5001,-338.5903 631,-328.5904 627.5001,-338.5904 634.5001,-338.5903\" stroke=\"#000000\"/>\n",
       "</g>\n",
       "<!-- 140682843834352 -->\n",
       "<g class=\"node\" id=\"node6\">\n",
       "<title>140682843834352</title>\n",
       "<polygon fill=\"none\" points=\"865,-365.5 865,-401.5 993,-401.5 993,-365.5 865,-365.5\" stroke=\"#000000\"/>\n",
       "<text fill=\"#000000\" font-family=\"Times,serif\" font-size=\"14.00\" text-anchor=\"middle\" x=\"929\" y=\"-379.8\">Color3: InputLayer</text>\n",
       "</g>\n",
       "<!-- 140682843833568 -->\n",
       "<g class=\"node\" id=\"node13\">\n",
       "<title>140682843833568</title>\n",
       "<polygon fill=\"none\" points=\"843.5,-292.5 843.5,-328.5 1014.5,-328.5 1014.5,-292.5 843.5,-292.5\" stroke=\"#000000\"/>\n",
       "<text fill=\"#000000\" font-family=\"Times,serif\" font-size=\"14.00\" text-anchor=\"middle\" x=\"929\" y=\"-306.8\">embedding_2: Embedding</text>\n",
       "</g>\n",
       "<!-- 140682843834352&#45;&gt;140682843833568 -->\n",
       "<g class=\"edge\" id=\"edge6\">\n",
       "<title>140682843834352-&gt;140682843833568</title>\n",
       "<path d=\"M929,-365.4551C929,-357.3828 929,-347.6764 929,-338.6817\" fill=\"none\" stroke=\"#000000\"/>\n",
       "<polygon fill=\"#000000\" points=\"932.5001,-338.5903 929,-328.5904 925.5001,-338.5904 932.5001,-338.5903\" stroke=\"#000000\"/>\n",
       "</g>\n",
       "<!-- 140682843916440 -->\n",
       "<g class=\"node\" id=\"node7\">\n",
       "<title>140682843916440</title>\n",
       "<polygon fill=\"none\" points=\"1162.5,-365.5 1162.5,-401.5 1291.5,-401.5 1291.5,-365.5 1162.5,-365.5\" stroke=\"#000000\"/>\n",
       "<text fill=\"#000000\" font-family=\"Times,serif\" font-size=\"14.00\" text-anchor=\"middle\" x=\"1227\" y=\"-379.8\">Breed1: InputLayer</text>\n",
       "</g>\n",
       "<!-- 140682843915600 -->\n",
       "<g class=\"node\" id=\"node14\">\n",
       "<title>140682843915600</title>\n",
       "<polygon fill=\"none\" points=\"1141.5,-292.5 1141.5,-328.5 1312.5,-328.5 1312.5,-292.5 1141.5,-292.5\" stroke=\"#000000\"/>\n",
       "<text fill=\"#000000\" font-family=\"Times,serif\" font-size=\"14.00\" text-anchor=\"middle\" x=\"1227\" y=\"-306.8\">embedding_3: Embedding</text>\n",
       "</g>\n",
       "<!-- 140682843916440&#45;&gt;140682843915600 -->\n",
       "<g class=\"edge\" id=\"edge7\">\n",
       "<title>140682843916440-&gt;140682843915600</title>\n",
       "<path d=\"M1227,-365.4551C1227,-357.3828 1227,-347.6764 1227,-338.6817\" fill=\"none\" stroke=\"#000000\"/>\n",
       "<polygon fill=\"#000000\" points=\"1230.5001,-338.5903 1227,-328.5904 1223.5001,-338.5904 1230.5001,-338.5903\" stroke=\"#000000\"/>\n",
       "</g>\n",
       "<!-- 140682843990336 -->\n",
       "<g class=\"node\" id=\"node8\">\n",
       "<title>140682843990336</title>\n",
       "<polygon fill=\"none\" points=\"1460.5,-365.5 1460.5,-401.5 1589.5,-401.5 1589.5,-365.5 1460.5,-365.5\" stroke=\"#000000\"/>\n",
       "<text fill=\"#000000\" font-family=\"Times,serif\" font-size=\"14.00\" text-anchor=\"middle\" x=\"1525\" y=\"-379.8\">Breed2: InputLayer</text>\n",
       "</g>\n",
       "<!-- 140682843989496 -->\n",
       "<g class=\"node\" id=\"node15\">\n",
       "<title>140682843989496</title>\n",
       "<polygon fill=\"none\" points=\"1439.5,-292.5 1439.5,-328.5 1610.5,-328.5 1610.5,-292.5 1439.5,-292.5\" stroke=\"#000000\"/>\n",
       "<text fill=\"#000000\" font-family=\"Times,serif\" font-size=\"14.00\" text-anchor=\"middle\" x=\"1525\" y=\"-306.8\">embedding_4: Embedding</text>\n",
       "</g>\n",
       "<!-- 140682843990336&#45;&gt;140682843989496 -->\n",
       "<g class=\"edge\" id=\"edge8\">\n",
       "<title>140682843990336-&gt;140682843989496</title>\n",
       "<path d=\"M1525,-365.4551C1525,-357.3828 1525,-347.6764 1525,-338.6817\" fill=\"none\" stroke=\"#000000\"/>\n",
       "<polygon fill=\"#000000\" points=\"1528.5001,-338.5903 1525,-328.5904 1521.5001,-338.5904 1528.5001,-338.5903\" stroke=\"#000000\"/>\n",
       "</g>\n",
       "<!-- 140682844060136 -->\n",
       "<g class=\"node\" id=\"node9\">\n",
       "<title>140682844060136</title>\n",
       "<polygon fill=\"none\" points=\"1765,-365.5 1765,-401.5 1881,-401.5 1881,-365.5 1765,-365.5\" stroke=\"#000000\"/>\n",
       "<text fill=\"#000000\" font-family=\"Times,serif\" font-size=\"14.00\" text-anchor=\"middle\" x=\"1823\" y=\"-379.8\">State: InputLayer</text>\n",
       "</g>\n",
       "<!-- 140682844059296 -->\n",
       "<g class=\"node\" id=\"node16\">\n",
       "<title>140682844059296</title>\n",
       "<polygon fill=\"none\" points=\"1737.5,-292.5 1737.5,-328.5 1908.5,-328.5 1908.5,-292.5 1737.5,-292.5\" stroke=\"#000000\"/>\n",
       "<text fill=\"#000000\" font-family=\"Times,serif\" font-size=\"14.00\" text-anchor=\"middle\" x=\"1823\" y=\"-306.8\">embedding_5: Embedding</text>\n",
       "</g>\n",
       "<!-- 140682844060136&#45;&gt;140682844059296 -->\n",
       "<g class=\"edge\" id=\"edge9\">\n",
       "<title>140682844060136-&gt;140682844059296</title>\n",
       "<path d=\"M1823,-365.4551C1823,-357.3828 1823,-347.6764 1823,-338.6817\" fill=\"none\" stroke=\"#000000\"/>\n",
       "<polygon fill=\"#000000\" points=\"1826.5001,-338.5903 1823,-328.5904 1819.5001,-338.5904 1826.5001,-338.5903\" stroke=\"#000000\"/>\n",
       "</g>\n",
       "<!-- 140682841128688 -->\n",
       "<g class=\"node\" id=\"node17\">\n",
       "<title>140682841128688</title>\n",
       "<polygon fill=\"none\" points=\"46.5,-292.5 46.5,-328.5 159.5,-328.5 159.5,-292.5 46.5,-292.5\" stroke=\"#000000\"/>\n",
       "<text fill=\"#000000\" font-family=\"Times,serif\" font-size=\"14.00\" text-anchor=\"middle\" x=\"103\" y=\"-306.8\">flatten_3: Flatten</text>\n",
       "</g>\n",
       "<!-- 140682834130816&#45;&gt;140682841128688 -->\n",
       "<g class=\"edge\" id=\"edge10\">\n",
       "<title>140682834130816-&gt;140682841128688</title>\n",
       "<path d=\"M103,-365.4551C103,-357.3828 103,-347.6764 103,-338.6817\" fill=\"none\" stroke=\"#000000\"/>\n",
       "<polygon fill=\"#000000\" points=\"106.5001,-338.5903 103,-328.5904 99.5001,-338.5904 106.5001,-338.5903\" stroke=\"#000000\"/>\n",
       "</g>\n",
       "<!-- 140682841669136 -->\n",
       "<g class=\"node\" id=\"node18\">\n",
       "<title>140682841669136</title>\n",
       "<polygon fill=\"none\" points=\"207.5,-219.5 207.5,-255.5 472.5,-255.5 472.5,-219.5 207.5,-219.5\" stroke=\"#000000\"/>\n",
       "<text fill=\"#000000\" font-family=\"Times,serif\" font-size=\"14.00\" text-anchor=\"middle\" x=\"340\" y=\"-233.8\">tf_op_layer_Squeeze: TensorFlowOpLayer</text>\n",
       "</g>\n",
       "<!-- 140683023130016&#45;&gt;140682841669136 -->\n",
       "<g class=\"edge\" id=\"edge11\">\n",
       "<title>140683023130016-&gt;140682841669136</title>\n",
       "<path d=\"M340,-292.4551C340,-284.3828 340,-274.6764 340,-265.6817\" fill=\"none\" stroke=\"#000000\"/>\n",
       "<polygon fill=\"#000000\" points=\"343.5001,-265.5903 340,-255.5904 336.5001,-265.5904 343.5001,-265.5903\" stroke=\"#000000\"/>\n",
       "</g>\n",
       "<!-- 140682841669416 -->\n",
       "<g class=\"node\" id=\"node19\">\n",
       "<title>140682841669416</title>\n",
       "<polygon fill=\"none\" points=\"491,-219.5 491,-255.5 771,-255.5 771,-219.5 491,-219.5\" stroke=\"#000000\"/>\n",
       "<text fill=\"#000000\" font-family=\"Times,serif\" font-size=\"14.00\" text-anchor=\"middle\" x=\"631\" y=\"-233.8\">tf_op_layer_Squeeze_1: TensorFlowOpLayer</text>\n",
       "</g>\n",
       "<!-- 140682989357824&#45;&gt;140682841669416 -->\n",
       "<g class=\"edge\" id=\"edge12\">\n",
       "<title>140682989357824-&gt;140682841669416</title>\n",
       "<path d=\"M631,-292.4551C631,-284.3828 631,-274.6764 631,-265.6817\" fill=\"none\" stroke=\"#000000\"/>\n",
       "<polygon fill=\"#000000\" points=\"634.5001,-265.5903 631,-255.5904 627.5001,-265.5904 634.5001,-265.5903\" stroke=\"#000000\"/>\n",
       "</g>\n",
       "<!-- 140682841219648 -->\n",
       "<g class=\"node\" id=\"node20\">\n",
       "<title>140682841219648</title>\n",
       "<polygon fill=\"none\" points=\"789,-219.5 789,-255.5 1069,-255.5 1069,-219.5 789,-219.5\" stroke=\"#000000\"/>\n",
       "<text fill=\"#000000\" font-family=\"Times,serif\" font-size=\"14.00\" text-anchor=\"middle\" x=\"929\" y=\"-233.8\">tf_op_layer_Squeeze_2: TensorFlowOpLayer</text>\n",
       "</g>\n",
       "<!-- 140682843833568&#45;&gt;140682841219648 -->\n",
       "<g class=\"edge\" id=\"edge13\">\n",
       "<title>140682843833568-&gt;140682841219648</title>\n",
       "<path d=\"M929,-292.4551C929,-284.3828 929,-274.6764 929,-265.6817\" fill=\"none\" stroke=\"#000000\"/>\n",
       "<polygon fill=\"#000000\" points=\"932.5001,-265.5903 929,-255.5904 925.5001,-265.5904 932.5001,-265.5903\" stroke=\"#000000\"/>\n",
       "</g>\n",
       "<!-- 140682841220264 -->\n",
       "<g class=\"node\" id=\"node21\">\n",
       "<title>140682841220264</title>\n",
       "<polygon fill=\"none\" points=\"1087,-219.5 1087,-255.5 1367,-255.5 1367,-219.5 1087,-219.5\" stroke=\"#000000\"/>\n",
       "<text fill=\"#000000\" font-family=\"Times,serif\" font-size=\"14.00\" text-anchor=\"middle\" x=\"1227\" y=\"-233.8\">tf_op_layer_Squeeze_3: TensorFlowOpLayer</text>\n",
       "</g>\n",
       "<!-- 140682843915600&#45;&gt;140682841220264 -->\n",
       "<g class=\"edge\" id=\"edge14\">\n",
       "<title>140682843915600-&gt;140682841220264</title>\n",
       "<path d=\"M1227,-292.4551C1227,-284.3828 1227,-274.6764 1227,-265.6817\" fill=\"none\" stroke=\"#000000\"/>\n",
       "<polygon fill=\"#000000\" points=\"1230.5001,-265.5903 1227,-255.5904 1223.5001,-265.5904 1230.5001,-265.5903\" stroke=\"#000000\"/>\n",
       "</g>\n",
       "<!-- 140682841220880 -->\n",
       "<g class=\"node\" id=\"node22\">\n",
       "<title>140682841220880</title>\n",
       "<polygon fill=\"none\" points=\"1385,-219.5 1385,-255.5 1665,-255.5 1665,-219.5 1385,-219.5\" stroke=\"#000000\"/>\n",
       "<text fill=\"#000000\" font-family=\"Times,serif\" font-size=\"14.00\" text-anchor=\"middle\" x=\"1525\" y=\"-233.8\">tf_op_layer_Squeeze_4: TensorFlowOpLayer</text>\n",
       "</g>\n",
       "<!-- 140682843989496&#45;&gt;140682841220880 -->\n",
       "<g class=\"edge\" id=\"edge15\">\n",
       "<title>140682843989496-&gt;140682841220880</title>\n",
       "<path d=\"M1525,-292.4551C1525,-284.3828 1525,-274.6764 1525,-265.6817\" fill=\"none\" stroke=\"#000000\"/>\n",
       "<polygon fill=\"#000000\" points=\"1528.5001,-265.5903 1525,-255.5904 1521.5001,-265.5904 1528.5001,-265.5903\" stroke=\"#000000\"/>\n",
       "</g>\n",
       "<!-- 140682841221496 -->\n",
       "<g class=\"node\" id=\"node23\">\n",
       "<title>140682841221496</title>\n",
       "<polygon fill=\"none\" points=\"1683,-219.5 1683,-255.5 1963,-255.5 1963,-219.5 1683,-219.5\" stroke=\"#000000\"/>\n",
       "<text fill=\"#000000\" font-family=\"Times,serif\" font-size=\"14.00\" text-anchor=\"middle\" x=\"1823\" y=\"-233.8\">tf_op_layer_Squeeze_5: TensorFlowOpLayer</text>\n",
       "</g>\n",
       "<!-- 140682844059296&#45;&gt;140682841221496 -->\n",
       "<g class=\"edge\" id=\"edge16\">\n",
       "<title>140682844059296-&gt;140682841221496</title>\n",
       "<path d=\"M1823,-292.4551C1823,-284.3828 1823,-274.6764 1823,-265.6817\" fill=\"none\" stroke=\"#000000\"/>\n",
       "<polygon fill=\"#000000\" points=\"1826.5001,-265.5903 1823,-255.5904 1819.5001,-265.5904 1826.5001,-265.5903\" stroke=\"#000000\"/>\n",
       "</g>\n",
       "<!-- 140682814954520 -->\n",
       "<g class=\"node\" id=\"node24\">\n",
       "<title>140682814954520</title>\n",
       "<polygon fill=\"none\" points=\"16.5,-219.5 16.5,-255.5 189.5,-255.5 189.5,-219.5 16.5,-219.5\" stroke=\"#000000\"/>\n",
       "<text fill=\"#000000\" font-family=\"Times,serif\" font-size=\"14.00\" text-anchor=\"middle\" x=\"103\" y=\"-233.8\">description_features: Dense</text>\n",
       "</g>\n",
       "<!-- 140682841128688&#45;&gt;140682814954520 -->\n",
       "<g class=\"edge\" id=\"edge17\">\n",
       "<title>140682841128688-&gt;140682814954520</title>\n",
       "<path d=\"M103,-292.4551C103,-284.3828 103,-274.6764 103,-265.6817\" fill=\"none\" stroke=\"#000000\"/>\n",
       "<polygon fill=\"#000000\" points=\"106.5001,-265.5903 103,-255.5904 99.5001,-265.5904 106.5001,-265.5903\" stroke=\"#000000\"/>\n",
       "</g>\n",
       "<!-- 140682814373392 -->\n",
       "<g class=\"node\" id=\"node26\">\n",
       "<title>140682814373392</title>\n",
       "<polygon fill=\"none\" points=\"996,-146.5 996,-182.5 1160,-182.5 1160,-146.5 996,-146.5\" stroke=\"#000000\"/>\n",
       "<text fill=\"#000000\" font-family=\"Times,serif\" font-size=\"14.00\" text-anchor=\"middle\" x=\"1078\" y=\"-160.8\">feature_map: Concatenate</text>\n",
       "</g>\n",
       "<!-- 140682841669136&#45;&gt;140682814373392 -->\n",
       "<g class=\"edge\" id=\"edge18\">\n",
       "<title>140682841669136-&gt;140682814373392</title>\n",
       "<path d=\"M472.634,-220.0571C475.7856,-219.6953 478.9113,-219.3423 482,-219 660.116,-199.261 868.7564,-181.3815 985.9438,-171.8156\" fill=\"none\" stroke=\"#000000\"/>\n",
       "<polygon fill=\"#000000\" points=\"986.2713,-175.3006 995.9543,-171.0005 985.7032,-168.3237 986.2713,-175.3006\" stroke=\"#000000\"/>\n",
       "</g>\n",
       "<!-- 140682841669416&#45;&gt;140682814373392 -->\n",
       "<g class=\"edge\" id=\"edge19\">\n",
       "<title>140682841669416-&gt;140682814373392</title>\n",
       "<path d=\"M741.4944,-219.4551C816.5279,-207.2013 914.6212,-191.1815 985.522,-179.6027\" fill=\"none\" stroke=\"#000000\"/>\n",
       "<polygon fill=\"#000000\" points=\"986.4743,-182.9936 995.7794,-177.9275 985.346,-176.0851 986.4743,-182.9936\" stroke=\"#000000\"/>\n",
       "</g>\n",
       "<!-- 140682841219648&#45;&gt;140682814373392 -->\n",
       "<g class=\"edge\" id=\"edge20\">\n",
       "<title>140682841219648-&gt;140682814373392</title>\n",
       "<path d=\"M965.8315,-219.4551C985.7999,-209.6719 1010.6678,-197.4883 1031.9108,-187.0806\" fill=\"none\" stroke=\"#000000\"/>\n",
       "<polygon fill=\"#000000\" points=\"1033.6356,-190.1331 1041.0758,-182.5904 1030.5558,-183.847 1033.6356,-190.1331\" stroke=\"#000000\"/>\n",
       "</g>\n",
       "<!-- 140682841220264&#45;&gt;140682814373392 -->\n",
       "<g class=\"edge\" id=\"edge21\">\n",
       "<title>140682841220264-&gt;140682814373392</title>\n",
       "<path d=\"M1190.1685,-219.4551C1170.2001,-209.6719 1145.3322,-197.4883 1124.0892,-187.0806\" fill=\"none\" stroke=\"#000000\"/>\n",
       "<polygon fill=\"#000000\" points=\"1125.4442,-183.847 1114.9242,-182.5904 1122.3644,-190.1331 1125.4442,-183.847\" stroke=\"#000000\"/>\n",
       "</g>\n",
       "<!-- 140682841220880&#45;&gt;140682814373392 -->\n",
       "<g class=\"edge\" id=\"edge22\">\n",
       "<title>140682841220880-&gt;140682814373392</title>\n",
       "<path d=\"M1414.5056,-219.4551C1339.4721,-207.2013 1241.3788,-191.1815 1170.478,-179.6027\" fill=\"none\" stroke=\"#000000\"/>\n",
       "<polygon fill=\"#000000\" points=\"1170.654,-176.0851 1160.2206,-177.9275 1169.5257,-182.9936 1170.654,-176.0851\" stroke=\"#000000\"/>\n",
       "</g>\n",
       "<!-- 140682841221496&#45;&gt;140682814373392 -->\n",
       "<g class=\"edge\" id=\"edge23\">\n",
       "<title>140682841221496-&gt;140682814373392</title>\n",
       "<path d=\"M1682.635,-219.9438C1679.7318,-219.6222 1676.8508,-219.3072 1674,-219 1495.8254,-199.7975 1287.2054,-181.7316 1170.0375,-171.9869\" fill=\"none\" stroke=\"#000000\"/>\n",
       "<polygon fill=\"#000000\" points=\"1170.284,-168.4954 1160.0287,-171.1562 1169.7049,-175.4714 1170.284,-168.4954\" stroke=\"#000000\"/>\n",
       "</g>\n",
       "<!-- 140682814954520&#45;&gt;140682814373392 -->\n",
       "<g class=\"edge\" id=\"edge24\">\n",
       "<title>140682814954520-&gt;140682814373392</title>\n",
       "<path d=\"M189.6458,-220.1434C192.4596,-219.7344 195.2499,-219.3514 198,-219 483.6332,-182.5018 824.6697,-170.2148 985.4441,-166.265\" fill=\"none\" stroke=\"#000000\"/>\n",
       "<polygon fill=\"#000000\" points=\"985.8579,-169.7561 995.7709,-166.0167 985.6896,-162.7581 985.8579,-169.7561\" stroke=\"#000000\"/>\n",
       "</g>\n",
       "<!-- 140682988224408 -->\n",
       "<g class=\"node\" id=\"node25\">\n",
       "<title>140682988224408</title>\n",
       "<polygon fill=\"none\" points=\"1981,-219.5 1981,-255.5 2151,-255.5 2151,-219.5 1981,-219.5\" stroke=\"#000000\"/>\n",
       "<text fill=\"#000000\" font-family=\"Times,serif\" font-size=\"14.00\" text-anchor=\"middle\" x=\"2066\" y=\"-233.8\">direct_features: InputLayer</text>\n",
       "</g>\n",
       "<!-- 140682988224408&#45;&gt;140682814373392 -->\n",
       "<g class=\"edge\" id=\"edge25\">\n",
       "<title>140682988224408-&gt;140682814373392</title>\n",
       "<path d=\"M1980.7751,-220.212C1977.8186,-219.7766 1974.887,-219.3704 1972,-219 1680.9157,-181.653 1333.1264,-169.7515 1170.4487,-166.0755\" fill=\"none\" stroke=\"#000000\"/>\n",
       "<polygon fill=\"#000000\" points=\"1170.0785,-162.5665 1160.0037,-165.8451 1169.924,-169.5648 1170.0785,-162.5665\" stroke=\"#000000\"/>\n",
       "</g>\n",
       "<!-- 140682814257584 -->\n",
       "<g class=\"node\" id=\"node27\">\n",
       "<title>140682814257584</title>\n",
       "<polygon fill=\"none\" points=\"1024.5,-73.5 1024.5,-109.5 1131.5,-109.5 1131.5,-73.5 1024.5,-73.5\" stroke=\"#000000\"/>\n",
       "<text fill=\"#000000\" font-family=\"Times,serif\" font-size=\"14.00\" text-anchor=\"middle\" x=\"1078\" y=\"-87.8\">dense_4: Dense</text>\n",
       "</g>\n",
       "<!-- 140682814373392&#45;&gt;140682814257584 -->\n",
       "<g class=\"edge\" id=\"edge26\">\n",
       "<title>140682814373392-&gt;140682814257584</title>\n",
       "<path d=\"M1078,-146.4551C1078,-138.3828 1078,-128.6764 1078,-119.6817\" fill=\"none\" stroke=\"#000000\"/>\n",
       "<polygon fill=\"#000000\" points=\"1081.5001,-119.5903 1078,-109.5904 1074.5001,-119.5904 1081.5001,-119.5903\" stroke=\"#000000\"/>\n",
       "</g>\n",
       "<!-- 140682814256520 -->\n",
       "<g class=\"node\" id=\"node28\">\n",
       "<title>140682814256520</title>\n",
       "<polygon fill=\"none\" points=\"1029.5,-.5 1029.5,-36.5 1126.5,-36.5 1126.5,-.5 1029.5,-.5\" stroke=\"#000000\"/>\n",
       "<text fill=\"#000000\" font-family=\"Times,serif\" font-size=\"14.00\" text-anchor=\"middle\" x=\"1078\" y=\"-14.8\">output: Dense</text>\n",
       "</g>\n",
       "<!-- 140682814257584&#45;&gt;140682814256520 -->\n",
       "<g class=\"edge\" id=\"edge27\">\n",
       "<title>140682814257584-&gt;140682814256520</title>\n",
       "<path d=\"M1078,-73.4551C1078,-65.3828 1078,-55.6764 1078,-46.6817\" fill=\"none\" stroke=\"#000000\"/>\n",
       "<polygon fill=\"#000000\" points=\"1081.5001,-46.5903 1078,-36.5904 1074.5001,-46.5904 1081.5001,-46.5903\" stroke=\"#000000\"/>\n",
       "</g>\n",
       "</g>\n",
       "</svg>"
      ],
      "text/plain": [
       "<IPython.core.display.SVG object>"
      ]
     },
     "execution_count": 37,
     "metadata": {
      "tags": []
     },
     "output_type": "execute_result"
    }
   ],
   "source": [
    "SVG(tf.keras.utils.model_to_dot(model, dpi=50).create(prog='dot', format='svg'))"
   ]
  },
  {
   "cell_type": "markdown",
   "metadata": {
    "colab_type": "text",
    "id": "VRhY2brWO8r8"
   },
   "source": [
    "## Entrenando el modelo\n",
    "\n",
    "Para entrenar el modelo es igual al caso anterior, ya generados el conjunto de datos correspondiente. Lo entrenamos con ayuda de `mlflow`."
   ]
  },
  {
   "cell_type": "code",
   "execution_count": 38,
   "metadata": {
    "colab": {
     "base_uri": "https://localhost:8080/",
     "height": 633
    },
    "colab_type": "code",
    "executionInfo": {
     "elapsed": 994668,
     "status": "ok",
     "timestamp": 1573144756376,
     "user": {
      "displayName": "Javier Alvarez",
      "photoUrl": "https://lh3.googleusercontent.com/a-/AAuE7mCpj6NcAdMItepXkUoq108X2wyUwQIMkXfM7KclgAg=s64",
      "userId": "16571654116830885687"
     },
     "user_tz": 180
    },
    "id": "lxrmw4pHL3fY",
    "outputId": "5020874a-47ca-4de1-f766-ce155f01d862"
   },
   "outputs": [
    {
     "name": "stdout",
     "output_type": "stream",
     "text": [
      "INFO: 'Lab1_improved_aproach' does not exist. Creating a new experiment\n",
      "Epoch 1/15\n",
      "17/17 [==============================] - 77s 5s/step - loss: 1.5319 - accuracy: 0.2457\n",
      "Epoch 2/15\n",
      "17/17 [==============================] - 65s 4s/step - loss: 1.4584 - accuracy: 0.2991\n",
      "Epoch 3/15\n",
      "17/17 [==============================] - 66s 4s/step - loss: 1.4358 - accuracy: 0.3309\n",
      "Epoch 4/15\n",
      "17/17 [==============================] - 65s 4s/step - loss: 1.4087 - accuracy: 0.3499\n",
      "Epoch 5/15\n",
      "17/17 [==============================] - 65s 4s/step - loss: 1.3849 - accuracy: 0.3746\n",
      "Epoch 6/15\n",
      "17/17 [==============================] - 65s 4s/step - loss: 1.3567 - accuracy: 0.3942\n",
      "Epoch 7/15\n",
      "17/17 [==============================] - 64s 4s/step - loss: 1.3261 - accuracy: 0.4197\n",
      "Epoch 8/15\n",
      "17/17 [==============================] - 64s 4s/step - loss: 1.2780 - accuracy: 0.4541\n",
      "Epoch 9/15\n",
      "17/17 [==============================] - 66s 4s/step - loss: 1.2221 - accuracy: 0.4853\n",
      "Epoch 10/15\n",
      "17/17 [==============================] - 64s 4s/step - loss: 1.1509 - accuracy: 0.5203\n",
      "Epoch 11/15\n",
      "17/17 [==============================] - 64s 4s/step - loss: 1.1014 - accuracy: 0.5471\n",
      "Epoch 12/15\n",
      "17/17 [==============================] - 65s 4s/step - loss: 1.0296 - accuracy: 0.6001\n",
      "Epoch 13/15\n",
      "17/17 [==============================] - 64s 4s/step - loss: 0.9991 - accuracy: 0.6274\n",
      "Epoch 14/15\n",
      "17/17 [==============================] - 65s 4s/step - loss: 0.8662 - accuracy: 0.6683\n",
      "Epoch 15/15\n",
      "17/17 [==============================] - 65s 4s/step - loss: 0.8091 - accuracy: 0.6903\n",
      "\n",
      "*** Validation loss: 0.6717834353446961 - accuracy: 0.7628719806671143\n"
     ]
    }
   ],
   "source": [
    "mlflow.set_experiment('Lab1_improved_aproach')\n",
    "\n",
    "with mlflow.start_run(nested=True):\n",
    "    # Log model hiperparameters first\n",
    "    mlflow.log_param('description_features_layer_size', DESCRIPTION_FEATURES_LAYER_SIZE)\n",
    "    mlflow.log_param('hidden_layer_size', HIDDEN_LAYER_SIZE_L1)\n",
    "    mlflow.log_param('embedded_columns', embedded_columns)\n",
    "    mlflow.log_param('one_hot_columns', one_hot_columns)\n",
    "    # mlflow.log_param('numerical_columns', numerical_columns)  # Not using these yet\n",
    "    \n",
    "    # Train\n",
    "    epochs = 15\n",
    "    history1 = model1.fit(train_dataset, epochs=epochs)\n",
    "    \n",
    "    # Evaluate\n",
    "    loss, accuracy = model1.evaluate(dev_dataset, verbose=0)\n",
    "    print(\"\\n*** Validation loss: {} - accuracy: {}\".format(loss, accuracy))\n",
    "    mlflow.log_metric('epochs', epochs)\n",
    "    mlflow.log_metric('train_loss', history1.history[\"loss\"][-1])\n",
    "    mlflow.log_metric('train_accuracy', history1.history[\"accuracy\"][-1])\n",
    "    mlflow.log_metric('validation_loss', loss)\n",
    "    mlflow.log_metric('validation_accuracy', accuracy)"
   ]
  },
  {
   "cell_type": "code",
   "execution_count": 40,
   "metadata": {
    "colab": {
     "base_uri": "https://localhost:8080/",
     "height": 633
    },
    "colab_type": "code",
    "executionInfo": {
     "elapsed": 1967652,
     "status": "ok",
     "timestamp": 1573145730365,
     "user": {
      "displayName": "Javier Alvarez",
      "photoUrl": "https://lh3.googleusercontent.com/a-/AAuE7mCpj6NcAdMItepXkUoq108X2wyUwQIMkXfM7KclgAg=s64",
      "userId": "16571654116830885687"
     },
     "user_tz": 180
    },
    "id": "3GA_tmEoO8r9",
    "outputId": "472c5fdf-cfa7-4bd1-8119-0ff33d2eca27"
   },
   "outputs": [
    {
     "name": "stdout",
     "output_type": "stream",
     "text": [
      "INFO: 'awesome_advanced_approach' does not exist. Creating a new experiment\n",
      "Epoch 1/15\n",
      "17/17 [==============================] - 70s 4s/step - loss: 1.1742 - accuracy: 0.4988\n",
      "Epoch 2/15\n",
      "17/17 [==============================] - 64s 4s/step - loss: 0.8280 - accuracy: 0.6965\n",
      "Epoch 3/15\n",
      "17/17 [==============================] - 64s 4s/step - loss: 0.6820 - accuracy: 0.7523\n",
      "Epoch 4/15\n",
      "17/17 [==============================] - 64s 4s/step - loss: 0.6234 - accuracy: 0.7677\n",
      "Epoch 5/15\n",
      "17/17 [==============================] - 63s 4s/step - loss: 0.5140 - accuracy: 0.8133\n",
      "Epoch 6/15\n",
      "17/17 [==============================] - 63s 4s/step - loss: 0.4727 - accuracy: 0.8240\n",
      "Epoch 7/15\n",
      "17/17 [==============================] - 64s 4s/step - loss: 0.4529 - accuracy: 0.8436\n",
      "Epoch 8/15\n",
      "17/17 [==============================] - 68s 4s/step - loss: 0.3681 - accuracy: 0.8737\n",
      "Epoch 9/15\n",
      "17/17 [==============================] - 64s 4s/step - loss: 0.3838 - accuracy: 0.8652\n",
      "Epoch 10/15\n",
      "17/17 [==============================] - 63s 4s/step - loss: 0.2695 - accuracy: 0.9160\n",
      "Epoch 11/15\n",
      "17/17 [==============================] - 63s 4s/step - loss: 0.2211 - accuracy: 0.9285\n",
      "Epoch 12/15\n",
      "17/17 [==============================] - 63s 4s/step - loss: 0.2112 - accuracy: 0.9314\n",
      "Epoch 13/15\n",
      "17/17 [==============================] - 63s 4s/step - loss: 0.1656 - accuracy: 0.9480\n",
      "Epoch 14/15\n",
      "17/17 [==============================] - 64s 4s/step - loss: 0.1514 - accuracy: 0.9543\n",
      "Epoch 15/15\n",
      "17/17 [==============================] - 63s 4s/step - loss: 0.5758 - accuracy: 0.8410\n",
      "\n",
      "*** Validation loss: 0.4924188435077667 - accuracy: 0.850732147693634\n"
     ]
    }
   ],
   "source": [
    "mlflow.set_experiment('awesome_advanced_approach')\n",
    "\n",
    "with mlflow.start_run(nested=True):\n",
    "    # Log model hiperparameters first\n",
    "    mlflow.log_param('description_features_layer_size', DESCRIPTION_FEATURES_LAYER_SIZE)\n",
    "    mlflow.log_param('hidden_layer_size', HIDDEN_LAYER_SIZE)\n",
    "    mlflow.log_param('embedded_columns', embedded_columns)\n",
    "    mlflow.log_param('one_hot_columns', one_hot_columns)\n",
    "    # mlflow.log_param('numerical_columns', numerical_columns)  # Not using these yet\n",
    "    \n",
    "    # Train\n",
    "    epochs = 15 #Estaba con 10\n",
    "    history = model.fit(train_dataset, epochs=epochs)\n",
    "    \n",
    "    # Evaluate\n",
    "    loss, accuracy = model.evaluate(dev_dataset, verbose=0)\n",
    "    print(\"\\n*** Validation loss: {} - accuracy: {}\".format(loss, accuracy))\n",
    "    mlflow.log_metric('epochs', epochs)\n",
    "    mlflow.log_metric('train_loss', history.history[\"loss\"][-1])\n",
    "    mlflow.log_metric('train_accuracy', history.history[\"accuracy\"][-1])\n",
    "    mlflow.log_metric('validation_loss', loss)\n",
    "    mlflow.log_metric('validation_accuracy', accuracy)"
   ]
  },
  {
   "cell_type": "markdown",
   "metadata": {
    "colab_type": "text",
    "id": "QPjLBc93O8sC"
   },
   "source": [
    "## Evaluando el modelo sobre los datos de evaluación para la competencia\n",
    "\n",
    "Una vez que tenemos definido nuestro modelo, el último paso es ponerlo a prueba en los datos de evaluación para generar un archivo para enviar a la competencia Kaggle.\n",
    "\n",
    "Comenzamos cargando el conjunto de datos."
   ]
  },
  {
   "cell_type": "code",
   "execution_count": 42,
   "metadata": {
    "colab": {
     "base_uri": "https://localhost:8080/",
     "height": 300
    },
    "colab_type": "code",
    "executionInfo": {
     "elapsed": 1985393,
     "status": "ok",
     "timestamp": 1573145748865,
     "user": {
      "displayName": "Javier Alvarez",
      "photoUrl": "https://lh3.googleusercontent.com/a-/AAuE7mCpj6NcAdMItepXkUoq108X2wyUwQIMkXfM7KclgAg=s64",
      "userId": "16571654116830885687"
     },
     "user_tz": 180
    },
    "id": "F9_cUlfE3Avj",
    "outputId": "61da68bf-57c9-433b-d746-ef160701b198"
   },
   "outputs": [
    {
     "data": {
      "text/plain": [
       "Text(0.5, 1.0, 'Red Neuronal del Lab 1')"
      ]
     },
     "execution_count": 42,
     "metadata": {
      "tags": []
     },
     "output_type": "execute_result"
    },
    {
     "data": {
      "image/png": "[encoded data removed]",
      "text/plain": [
       "<Figure size 432x288 with 1 Axes>"
      ]
     },
     "metadata": {
      "tags": []
     },
     "output_type": "display_data"
    }
   ],
   "source": [
    "predicciones = np.argmax(model1.predict(train_dataset), axis=1)\n",
    "sb.countplot(predicciones).set_title('Red Neuronal Lab 1')"
   ]
  },
  {
   "cell_type": "code",
   "execution_count": 43,
   "metadata": {
    "colab": {
     "base_uri": "https://localhost:8080/",
     "height": 300
    },
    "colab_type": "code",
    "executionInfo": {
     "elapsed": 2004148,
     "status": "ok",
     "timestamp": 1573145767955,
     "user": {
      "displayName": "Javier Alvarez",
      "photoUrl": "https://lh3.googleusercontent.com/a-/AAuE7mCpj6NcAdMItepXkUoq108X2wyUwQIMkXfM7KclgAg=s64",
      "userId": "16571654116830885687"
     },
     "user_tz": 180
    },
    "id": "938hqp1PMsRu",
    "outputId": "d0192d2d-3a08-427c-e496-5829ddca0cf0"
   },
   "outputs": [
    {
     "data": {
      "text/plain": [
       "Text(0.5, 1.0, 'Red Neuronal del Lab 2')"
      ]
     },
     "execution_count": 43,
     "metadata": {
      "tags": []
     },
     "output_type": "execute_result"
    },
    {
     "data": {
      "image/png": "[encoded data removed]",
      "text/plain": [
       "<Figure size 432x288 with 1 Axes>"
      ]
     },
     "metadata": {
      "tags": []
     },
     "output_type": "display_data"
    }
   ],
   "source": [
    "predicciones = np.argmax(model.predict(train_dataset), axis=1)\n",
    "sb.countplot(predicciones).set_title('Red Neuronal Lab 2')"
   ]
  },
  {
   "cell_type": "markdown",
   "metadata": {
    "colab_type": "text",
    "id": "DHfQVaUEO8sJ"
   },
   "source": [
    "## Creamos el conjunto de datos para darle al modelo entrenado\n",
    "\n",
    "Tenemos que preprocesar los datos de evaluación de la misma manera que preprocesamos los de entrenamiento (para que sean compatibles con lo esperado por el modelo). Por suerte, es tan simple como hacer un par de modificaciones a lo ya hecho previamente. Lo único que tenemos que tener en cuenta es que ahora el conjunto de datos no generará una etiqueta."
   ]
  },
  {
   "cell_type": "code",
   "execution_count": 46,
   "metadata": {
    "colab": {
     "base_uri": "https://localhost:8080/",
     "height": 559
    },
    "colab_type": "code",
    "executionInfo": {
     "elapsed": 2006502,
     "status": "ok",
     "timestamp": 1573145771437,
     "user": {
      "displayName": "Javier Alvarez",
      "photoUrl": "https://lh3.googleusercontent.com/a-/AAuE7mCpj6NcAdMItepXkUoq108X2wyUwQIMkXfM7KclgAg=s64",
      "userId": "16571654116830885687"
     },
     "user_tz": 180
    },
    "id": "pAnqEjLcO8sM",
    "outputId": "ad5533d8-57c7-49d1-da3e-87063d1d173a"
   },
   "outputs": [
    {
     "name": "stdout",
     "output_type": "stream",
     "text": [
      "{'Breed1': <tf.Tensor: id=7619, shape=(1,), dtype=int32, numpy=array([265], dtype=int32)>,\n",
      " 'Breed2': <tf.Tensor: id=7620, shape=(1,), dtype=int32, numpy=array([0], dtype=int32)>,\n",
      " 'Color1': <tf.Tensor: id=7621, shape=(1,), dtype=int32, numpy=array([1], dtype=int32)>,\n",
      " 'Color2': <tf.Tensor: id=7622, shape=(1,), dtype=int32, numpy=array([2], dtype=int32)>,\n",
      " 'Color3': <tf.Tensor: id=7623, shape=(1,), dtype=int32, numpy=array([0], dtype=int32)>,\n",
      " 'State': <tf.Tensor: id=7624, shape=(1,), dtype=int32, numpy=array([41401], dtype=int32)>,\n",
      " 'description': <tf.Tensor: id=7625, shape=(13,), dtype=int32, numpy=\n",
      "array([ 116,  429, 1371,  991,  189,    1, 7873, 1043,   62,  600,  728,\n",
      "          5,    1], dtype=int32)>,\n",
      " 'direct_features': <tf.Tensor: id=7626, shape=(24,), dtype=float32, numpy=\n",
      "array([0., 1., 1., 0., 0., 0., 1., 0., 0., 0., 1., 0., 0., 0., 1., 0., 0.,\n",
      "       1., 0., 0., 1., 1., 0., 0.], dtype=float32)>}\n",
      "\n",
      "{'Breed1': <tf.Tensor: id=7627, shape=(1,), dtype=int32, numpy=array([307], dtype=int32)>,\n",
      " 'Breed2': <tf.Tensor: id=7628, shape=(1,), dtype=int32, numpy=array([0], dtype=int32)>,\n",
      " 'Color1': <tf.Tensor: id=7629, shape=(1,), dtype=int32, numpy=array([2], dtype=int32)>,\n",
      " 'Color2': <tf.Tensor: id=7630, shape=(1,), dtype=int32, numpy=array([7], dtype=int32)>,\n",
      " 'Color3': <tf.Tensor: id=7631, shape=(1,), dtype=int32, numpy=array([0], dtype=int32)>,\n",
      " 'State': <tf.Tensor: id=7632, shape=(1,), dtype=int32, numpy=array([41326], dtype=int32)>,\n",
      " 'description': <tf.Tensor: id=7633, shape=(47,), dtype=int32, numpy=\n",
      "array([ 945,  154,  256, 2049,  105,  403,  991, 4677,  552,  545,    1,\n",
      "        142,  134,  403,    1,  118,  210,   73,    1,  533,  387,   35,\n",
      "        394,  272,   98,   62,    1,  464,  411,  151, 1401,   42,  253,\n",
      "          1,  825,   35, 4659,  247, 4155, 1402, 1403,    1,   43,   52,\n",
      "        599,   38,    1], dtype=int32)>,\n",
      " 'direct_features': <tf.Tensor: id=7634, shape=(24,), dtype=float32, numpy=\n",
      "array([1., 0., 1., 0., 0., 0., 1., 0., 0., 0., 1., 0., 1., 0., 0., 1., 0.,\n",
      "       0., 0., 1., 0., 1., 0., 0.], dtype=float32)>}\n",
      "\n"
     ]
    }
   ],
   "source": [
    "# First tokenize the description\n",
    "\n",
    "test_dataset[\"TokenizedDescription\"] = test_dataset[\"Description\"]\\\n",
    "    .fillna(value=\"\").apply(tokenize_description)\n",
    "\n",
    "# Generate the basic TF dataset\n",
    "\n",
    "tf_test_dataset = tf.data.Dataset.from_generator(\n",
    "    lambda: dataset_generator(test_dataset, True),\n",
    "    output_types=instance_types  # It should have the same instance types\n",
    ")\n",
    "\n",
    "for data in tf_test_dataset.take(2):  # The dataset only returns a data instance now (no target)\n",
    "    pprint(data)\n",
    "    print()"
   ]
  },
  {
   "cell_type": "markdown",
   "metadata": {
    "colab_type": "text",
    "id": "DA_8oXy7O8sT"
   },
   "source": [
    "## Padding batches\n",
    "\n",
    "Por último, y previo a probar el modelo sobre los datos de evaluación, generamos el conjunto de datos \"rellenado\". \n",
    "\n",
    "A diferencia de los datos de entrenamiento y validación, en este caso no permutamos las instancias, pues necesitamos saber a que `PID` pertenece cada una.\n",
    "\n",
    "Por otra parte, utilizamos los mismos valores de `padding_shapes` y `padding_values` para el primer componente (el de los datos), ignorando el valor del segundo componente (el de las etiquetas)."
   ]
  },
  {
   "cell_type": "code",
   "execution_count": 0,
   "metadata": {
    "colab": {},
    "colab_type": "code",
    "id": "gd13Pbw9O8sU"
   },
   "outputs": [],
   "source": [
    "test_data = tf_test_dataset.padded_batch(\n",
    "    BATCH_SIZE, \n",
    "    padded_shapes=padding_shapes[0], \n",
    "    padding_values=padding_values[0]\n",
    ")"
   ]
  },
  {
   "cell_type": "markdown",
   "metadata": {
    "colab_type": "text",
    "id": "kyvzN580O8sb"
   },
   "source": [
    "## Correr el modelo\n",
    "\n",
    "El último paso es correr el modelo sobre los datos de evaluación para conseguir las predicciones a enviar a la competencia."
   ]
  },
  {
   "cell_type": "code",
   "execution_count": 0,
   "metadata": {
    "colab": {},
    "colab_type": "code",
    "id": "BiqBSb6-O8sc"
   },
   "outputs": [],
   "source": [
    "test_dataset[\"AdoptionSpeed\"] = model.predict(test_data).argmax(axis=1)\n",
    "\n",
    "test_dataset.to_csv(\"./submission.csv\", index=False, columns=[\"PID\", \"AdoptionSpeed\"])"
   ]
  },
  {
   "cell_type": "code",
   "execution_count": 0,
   "metadata": {
    "colab": {},
    "colab_type": "code",
    "id": "LYJ0Cv9jrOVl"
   },
   "outputs": [],
   "source": []
  }
 ],
 "metadata": {
  "colab": {
   "collapsed_sections": [],
   "machine_shape": "hm",
   "name": "consigna_practico_2.ipynb",
   "provenance": []
  },
  "kernelspec": {
   "display_name": "Python 3",
   "language": "python",
   "name": "python3"
  },
  "language_info": {
   "codemirror_mode": {
    "name": "ipython",
    "version": 3
   },
   "file_extension": ".py",
   "mimetype": "text/x-python",
   "name": "python",
   "nbconvert_exporter": "python",
   "pygments_lexer": "ipython3",
   "version": "3.7.4"
  }
 },
 "nbformat": 4,
 "nbformat_minor": 1
}
